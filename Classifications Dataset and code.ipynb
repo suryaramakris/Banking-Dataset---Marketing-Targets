{
 "cells": [
  {
   "cell_type": "markdown",
   "id": "b3d79ba0",
   "metadata": {},
   "source": [
    "# <center>Banking Dataset - Marketing Targets</center>"
   ]
  },
  {
   "cell_type": "markdown",
   "id": "373101f9",
   "metadata": {},
   "source": [
    "## Problem Statement"
   ]
  },
  {
   "cell_type": "markdown",
   "id": "b13434bf",
   "metadata": {},
   "source": [
    "The data is related to direct marketing campaigns (phone calls) of a Portuguese banking institution. The classification goal is to predict if the client will subscribe to a term deposit (variable y)."
   ]
  },
  {
   "cell_type": "markdown",
   "id": "b5cdf342",
   "metadata": {},
   "source": [
    "### <b>Detailed Column Descriptions</b>\n",
    "1 - age <br>\n",
    "2 - job : type of job<br>\n",
    "3 - marital : marital status<br>\n",
    "4 - education <br>\n",
    "5 - default: has credit in default? (binary: \"yes\",\"no\")<br>\n",
    "6 - balance: average yearly balance, in euros (numeric)<br>\n",
    "7 - housing: has housing loan? (binary: \"yes\",\"no\")<br>\n",
    "8 - loan: has personal loan? (binary: \"yes\",\"no\")<br>\n",
    "\n",
    "### related with the last contact of the current campaign:\n",
    "9 - contact: contact communication type (categorical: \"unknown\",\"telephone\",\"cellular\")<br>\n",
    "10 - day: last contact day of the month (numeric)<br>\n",
    "11 - month: last contact month of year (categorical: \"jan\", \"feb\", \"mar\", …, \"nov\", \"dec\")<br>\n",
    "12 - duration: last contact duration, in seconds (numeric)<br>\n",
    "\n",
    "### other attributes:\n",
    "13 - campaign: number of contacts performed during this campaign and for this client (numeric, includes last contact)<br>\n",
    "14 - pdays: number of days that passed by after the client was last contacted from a previous campaign (numeric, -1 means client was not previously contacted)<br>\n",
    "15 - previous: number of contacts performed before this campaign and for this client (numeric)<br>\n",
    "16 - poutcome: outcome of the previous marketing campaign (categorical: \"unknown\",\"other\",\"failure\",\"success\")<br>\n",
    "\n",
    "### Output variable (desired target):\n",
    "17 - y - has the client subscribed a term deposit? (binary: \"yes\",\"no\")"
   ]
  },
  {
   "cell_type": "code",
   "execution_count": 1,
   "id": "9a043d37",
   "metadata": {},
   "outputs": [],
   "source": [
    "#Importing required libraries\n",
    "import statistics\n",
    "import joblib\n",
    "import pandas as pd\n",
    "import numpy as np\n",
    "import matplotlib.pyplot as plt\n",
    "import seaborn as sns\n",
    "\n",
    "from sklearn.preprocessing import StandardScaler, LabelEncoder, OneHotEncoder\n",
    "from sklearn.model_selection import train_test_split\n",
    "\n",
    "\n",
    "from sklearn.ensemble import RandomForestClassifier\n",
    "from sklearn.tree import DecisionTreeClassifier\n",
    "from sklearn.linear_model import LogisticRegression, LinearRegression\n",
    "from sklearn.neighbors import KNeighborsClassifier\n",
    "from sklearn.svm import SVC\n",
    "\n",
    "from sklearn import metrics\n",
    "from sklearn.metrics import classification_report\n",
    "from sklearn.model_selection import cross_val_score\n",
    "\n",
    "import warnings\n",
    "warnings.filterwarnings(\"ignore\")"
   ]
  },
  {
   "cell_type": "code",
   "execution_count": 2,
   "id": "bd597ad3",
   "metadata": {},
   "outputs": [],
   "source": [
    "df = pd.read_csv(\"bank-additional-full.csv\",sep=\";\")"
   ]
  },
  {
   "cell_type": "code",
   "execution_count": 3,
   "id": "815f16f1",
   "metadata": {},
   "outputs": [
    {
     "data": {
      "text/html": [
       "<div>\n",
       "<style scoped>\n",
       "    .dataframe tbody tr th:only-of-type {\n",
       "        vertical-align: middle;\n",
       "    }\n",
       "\n",
       "    .dataframe tbody tr th {\n",
       "        vertical-align: top;\n",
       "    }\n",
       "\n",
       "    .dataframe thead th {\n",
       "        text-align: right;\n",
       "    }\n",
       "</style>\n",
       "<table border=\"1\" class=\"dataframe\">\n",
       "  <thead>\n",
       "    <tr style=\"text-align: right;\">\n",
       "      <th></th>\n",
       "      <th>age</th>\n",
       "      <th>job</th>\n",
       "      <th>marital</th>\n",
       "      <th>education</th>\n",
       "      <th>default</th>\n",
       "      <th>housing</th>\n",
       "      <th>loan</th>\n",
       "      <th>contact</th>\n",
       "      <th>month</th>\n",
       "      <th>day_of_week</th>\n",
       "      <th>...</th>\n",
       "      <th>campaign</th>\n",
       "      <th>pdays</th>\n",
       "      <th>previous</th>\n",
       "      <th>poutcome</th>\n",
       "      <th>emp.var.rate</th>\n",
       "      <th>cons.price.idx</th>\n",
       "      <th>cons.conf.idx</th>\n",
       "      <th>euribor3m</th>\n",
       "      <th>nr.employed</th>\n",
       "      <th>y</th>\n",
       "    </tr>\n",
       "  </thead>\n",
       "  <tbody>\n",
       "    <tr>\n",
       "      <th>0</th>\n",
       "      <td>56</td>\n",
       "      <td>housemaid</td>\n",
       "      <td>married</td>\n",
       "      <td>basic.4y</td>\n",
       "      <td>no</td>\n",
       "      <td>no</td>\n",
       "      <td>no</td>\n",
       "      <td>telephone</td>\n",
       "      <td>may</td>\n",
       "      <td>mon</td>\n",
       "      <td>...</td>\n",
       "      <td>1</td>\n",
       "      <td>999</td>\n",
       "      <td>0</td>\n",
       "      <td>nonexistent</td>\n",
       "      <td>1.1</td>\n",
       "      <td>93.994</td>\n",
       "      <td>-36.4</td>\n",
       "      <td>4.857</td>\n",
       "      <td>5191.0</td>\n",
       "      <td>no</td>\n",
       "    </tr>\n",
       "    <tr>\n",
       "      <th>1</th>\n",
       "      <td>57</td>\n",
       "      <td>services</td>\n",
       "      <td>married</td>\n",
       "      <td>high.school</td>\n",
       "      <td>unknown</td>\n",
       "      <td>no</td>\n",
       "      <td>no</td>\n",
       "      <td>telephone</td>\n",
       "      <td>may</td>\n",
       "      <td>mon</td>\n",
       "      <td>...</td>\n",
       "      <td>1</td>\n",
       "      <td>999</td>\n",
       "      <td>0</td>\n",
       "      <td>nonexistent</td>\n",
       "      <td>1.1</td>\n",
       "      <td>93.994</td>\n",
       "      <td>-36.4</td>\n",
       "      <td>4.857</td>\n",
       "      <td>5191.0</td>\n",
       "      <td>no</td>\n",
       "    </tr>\n",
       "    <tr>\n",
       "      <th>2</th>\n",
       "      <td>37</td>\n",
       "      <td>services</td>\n",
       "      <td>married</td>\n",
       "      <td>high.school</td>\n",
       "      <td>no</td>\n",
       "      <td>yes</td>\n",
       "      <td>no</td>\n",
       "      <td>telephone</td>\n",
       "      <td>may</td>\n",
       "      <td>mon</td>\n",
       "      <td>...</td>\n",
       "      <td>1</td>\n",
       "      <td>999</td>\n",
       "      <td>0</td>\n",
       "      <td>nonexistent</td>\n",
       "      <td>1.1</td>\n",
       "      <td>93.994</td>\n",
       "      <td>-36.4</td>\n",
       "      <td>4.857</td>\n",
       "      <td>5191.0</td>\n",
       "      <td>no</td>\n",
       "    </tr>\n",
       "    <tr>\n",
       "      <th>3</th>\n",
       "      <td>40</td>\n",
       "      <td>admin.</td>\n",
       "      <td>married</td>\n",
       "      <td>basic.6y</td>\n",
       "      <td>no</td>\n",
       "      <td>no</td>\n",
       "      <td>no</td>\n",
       "      <td>telephone</td>\n",
       "      <td>may</td>\n",
       "      <td>mon</td>\n",
       "      <td>...</td>\n",
       "      <td>1</td>\n",
       "      <td>999</td>\n",
       "      <td>0</td>\n",
       "      <td>nonexistent</td>\n",
       "      <td>1.1</td>\n",
       "      <td>93.994</td>\n",
       "      <td>-36.4</td>\n",
       "      <td>4.857</td>\n",
       "      <td>5191.0</td>\n",
       "      <td>no</td>\n",
       "    </tr>\n",
       "    <tr>\n",
       "      <th>4</th>\n",
       "      <td>56</td>\n",
       "      <td>services</td>\n",
       "      <td>married</td>\n",
       "      <td>high.school</td>\n",
       "      <td>no</td>\n",
       "      <td>no</td>\n",
       "      <td>yes</td>\n",
       "      <td>telephone</td>\n",
       "      <td>may</td>\n",
       "      <td>mon</td>\n",
       "      <td>...</td>\n",
       "      <td>1</td>\n",
       "      <td>999</td>\n",
       "      <td>0</td>\n",
       "      <td>nonexistent</td>\n",
       "      <td>1.1</td>\n",
       "      <td>93.994</td>\n",
       "      <td>-36.4</td>\n",
       "      <td>4.857</td>\n",
       "      <td>5191.0</td>\n",
       "      <td>no</td>\n",
       "    </tr>\n",
       "  </tbody>\n",
       "</table>\n",
       "<p>5 rows × 21 columns</p>\n",
       "</div>"
      ],
      "text/plain": [
       "   age        job  marital    education  default housing loan    contact  \\\n",
       "0   56  housemaid  married     basic.4y       no      no   no  telephone   \n",
       "1   57   services  married  high.school  unknown      no   no  telephone   \n",
       "2   37   services  married  high.school       no     yes   no  telephone   \n",
       "3   40     admin.  married     basic.6y       no      no   no  telephone   \n",
       "4   56   services  married  high.school       no      no  yes  telephone   \n",
       "\n",
       "  month day_of_week  ...  campaign  pdays  previous     poutcome emp.var.rate  \\\n",
       "0   may         mon  ...         1    999         0  nonexistent          1.1   \n",
       "1   may         mon  ...         1    999         0  nonexistent          1.1   \n",
       "2   may         mon  ...         1    999         0  nonexistent          1.1   \n",
       "3   may         mon  ...         1    999         0  nonexistent          1.1   \n",
       "4   may         mon  ...         1    999         0  nonexistent          1.1   \n",
       "\n",
       "   cons.price.idx  cons.conf.idx  euribor3m  nr.employed   y  \n",
       "0          93.994          -36.4      4.857       5191.0  no  \n",
       "1          93.994          -36.4      4.857       5191.0  no  \n",
       "2          93.994          -36.4      4.857       5191.0  no  \n",
       "3          93.994          -36.4      4.857       5191.0  no  \n",
       "4          93.994          -36.4      4.857       5191.0  no  \n",
       "\n",
       "[5 rows x 21 columns]"
      ]
     },
     "execution_count": 3,
     "metadata": {},
     "output_type": "execute_result"
    }
   ],
   "source": [
    "df.head()"
   ]
  },
  {
   "cell_type": "code",
   "execution_count": 4,
   "id": "349193b5",
   "metadata": {},
   "outputs": [
    {
     "data": {
      "text/plain": [
       "(41188, 21)"
      ]
     },
     "execution_count": 4,
     "metadata": {},
     "output_type": "execute_result"
    }
   ],
   "source": [
    "df.shape"
   ]
  },
  {
   "cell_type": "code",
   "execution_count": 5,
   "id": "c9d60407",
   "metadata": {},
   "outputs": [
    {
     "name": "stdout",
     "output_type": "stream",
     "text": [
      "<class 'pandas.core.frame.DataFrame'>\n",
      "RangeIndex: 41188 entries, 0 to 41187\n",
      "Data columns (total 21 columns):\n",
      " #   Column          Non-Null Count  Dtype  \n",
      "---  ------          --------------  -----  \n",
      " 0   age             41188 non-null  int64  \n",
      " 1   job             41188 non-null  object \n",
      " 2   marital         41188 non-null  object \n",
      " 3   education       41188 non-null  object \n",
      " 4   default         41188 non-null  object \n",
      " 5   housing         41188 non-null  object \n",
      " 6   loan            41188 non-null  object \n",
      " 7   contact         41188 non-null  object \n",
      " 8   month           41188 non-null  object \n",
      " 9   day_of_week     41188 non-null  object \n",
      " 10  duration        41188 non-null  int64  \n",
      " 11  campaign        41188 non-null  int64  \n",
      " 12  pdays           41188 non-null  int64  \n",
      " 13  previous        41188 non-null  int64  \n",
      " 14  poutcome        41188 non-null  object \n",
      " 15  emp.var.rate    41188 non-null  float64\n",
      " 16  cons.price.idx  41188 non-null  float64\n",
      " 17  cons.conf.idx   41188 non-null  float64\n",
      " 18  euribor3m       41188 non-null  float64\n",
      " 19  nr.employed     41188 non-null  float64\n",
      " 20  y               41188 non-null  object \n",
      "dtypes: float64(5), int64(5), object(11)\n",
      "memory usage: 6.6+ MB\n"
     ]
    }
   ],
   "source": [
    "df.info()"
   ]
  },
  {
   "cell_type": "code",
   "execution_count": 6,
   "id": "ff25a312",
   "metadata": {},
   "outputs": [
    {
     "data": {
      "text/plain": [
       "0"
      ]
     },
     "execution_count": 6,
     "metadata": {},
     "output_type": "execute_result"
    }
   ],
   "source": [
    "# checking for Null Values\n",
    "df.isnull().sum().sum()"
   ]
  },
  {
   "cell_type": "code",
   "execution_count": 7,
   "id": "5cea5e47",
   "metadata": {},
   "outputs": [
    {
     "data": {
      "text/plain": [
       "12"
      ]
     },
     "execution_count": 7,
     "metadata": {},
     "output_type": "execute_result"
    }
   ],
   "source": [
    "# checking for dupliacted rows\n",
    "df.duplicated().sum()"
   ]
  },
  {
   "cell_type": "code",
   "execution_count": 8,
   "id": "ec146a05",
   "metadata": {},
   "outputs": [
    {
     "data": {
      "text/plain": [
       "(41176, 21)"
      ]
     },
     "execution_count": 8,
     "metadata": {},
     "output_type": "execute_result"
    }
   ],
   "source": [
    "#dropping duplicated rows\n",
    "df = df.drop_duplicates()\n",
    "df.shape"
   ]
  },
  {
   "cell_type": "code",
   "execution_count": 9,
   "id": "c8259a6c",
   "metadata": {},
   "outputs": [
    {
     "data": {
      "text/html": [
       "<style type=\"text/css\">\n",
       "#T_108e5_row0_col0, #T_108e5_row0_col10, #T_108e5_row0_col11, #T_108e5_row0_col12, #T_108e5_row0_col13, #T_108e5_row0_col15, #T_108e5_row0_col16, #T_108e5_row0_col17, #T_108e5_row0_col18, #T_108e5_row0_col19 {\n",
       "  background-color: #08306b;\n",
       "  color: #f1f1f1;\n",
       "}\n",
       "#T_108e5_row1_col0, #T_108e5_row1_col10, #T_108e5_row1_col11, #T_108e5_row1_col12, #T_108e5_row1_col13, #T_108e5_row1_col15, #T_108e5_row1_col16, #T_108e5_row1_col17, #T_108e5_row1_col18, #T_108e5_row1_col19, #T_108e5_row2_col0, #T_108e5_row2_col10, #T_108e5_row2_col11, #T_108e5_row2_col12, #T_108e5_row2_col13, #T_108e5_row2_col15, #T_108e5_row2_col16, #T_108e5_row2_col17, #T_108e5_row2_col18, #T_108e5_row2_col19, #T_108e5_row3_col0, #T_108e5_row3_col10, #T_108e5_row3_col11, #T_108e5_row3_col12, #T_108e5_row3_col13, #T_108e5_row3_col15, #T_108e5_row3_col16, #T_108e5_row3_col17, #T_108e5_row3_col18, #T_108e5_row3_col19 {\n",
       "  background-color: #000000;\n",
       "  color: #f1f1f1;\n",
       "}\n",
       "#T_108e5_row4_col0, #T_108e5_row4_col11, #T_108e5_row4_col13, #T_108e5_row4_col15, #T_108e5_row4_col16, #T_108e5_row4_col17, #T_108e5_row4_col18, #T_108e5_row5_col0, #T_108e5_row5_col11, #T_108e5_row5_col13, #T_108e5_row5_col15, #T_108e5_row5_col16, #T_108e5_row5_col17, #T_108e5_row5_col18, #T_108e5_row5_col19, #T_108e5_row6_col0, #T_108e5_row6_col10, #T_108e5_row6_col11, #T_108e5_row6_col12, #T_108e5_row6_col13, #T_108e5_row6_col15, #T_108e5_row6_col16, #T_108e5_row6_col17, #T_108e5_row6_col18, #T_108e5_row7_col0, #T_108e5_row7_col10, #T_108e5_row7_col11, #T_108e5_row7_col13, #T_108e5_row7_col15, #T_108e5_row7_col16, #T_108e5_row7_col17, #T_108e5_row7_col18, #T_108e5_row8_col0, #T_108e5_row8_col11, #T_108e5_row8_col13, #T_108e5_row8_col15, #T_108e5_row8_col16, #T_108e5_row8_col17, #T_108e5_row8_col18, #T_108e5_row9_col0, #T_108e5_row9_col11, #T_108e5_row9_col13, #T_108e5_row9_col15, #T_108e5_row9_col16, #T_108e5_row9_col17, #T_108e5_row9_col18, #T_108e5_row10_col0, #T_108e5_row10_col11, #T_108e5_row10_col13, #T_108e5_row10_col15, #T_108e5_row10_col16, #T_108e5_row10_col17, #T_108e5_row10_col18 {\n",
       "  background-color: #f7fbff;\n",
       "  color: #000000;\n",
       "}\n",
       "#T_108e5_row4_col10, #T_108e5_row5_col10, #T_108e5_row5_col12, #T_108e5_row8_col10, #T_108e5_row9_col10 {\n",
       "  background-color: #f6faff;\n",
       "  color: #000000;\n",
       "}\n",
       "#T_108e5_row4_col12 {\n",
       "  background-color: #f3f8fe;\n",
       "  color: #000000;\n",
       "}\n",
       "#T_108e5_row4_col19, #T_108e5_row7_col19, #T_108e5_row8_col19 {\n",
       "  background-color: #dfebf7;\n",
       "  color: #000000;\n",
       "}\n",
       "#T_108e5_row6_col19, #T_108e5_row10_col10 {\n",
       "  background-color: #dfecf7;\n",
       "  color: #000000;\n",
       "}\n",
       "#T_108e5_row7_col12, #T_108e5_row8_col12, #T_108e5_row9_col12, #T_108e5_row10_col12 {\n",
       "  background-color: #f2f8fd;\n",
       "  color: #000000;\n",
       "}\n",
       "#T_108e5_row9_col19, #T_108e5_row10_col19 {\n",
       "  background-color: #deebf7;\n",
       "  color: #000000;\n",
       "}\n",
       "</style>\n",
       "<table id=\"T_108e5\">\n",
       "  <thead>\n",
       "    <tr>\n",
       "      <th class=\"blank level0\" >&nbsp;</th>\n",
       "      <th id=\"T_108e5_level0_col0\" class=\"col_heading level0 col0\" >age</th>\n",
       "      <th id=\"T_108e5_level0_col1\" class=\"col_heading level0 col1\" >job</th>\n",
       "      <th id=\"T_108e5_level0_col2\" class=\"col_heading level0 col2\" >marital</th>\n",
       "      <th id=\"T_108e5_level0_col3\" class=\"col_heading level0 col3\" >education</th>\n",
       "      <th id=\"T_108e5_level0_col4\" class=\"col_heading level0 col4\" >default</th>\n",
       "      <th id=\"T_108e5_level0_col5\" class=\"col_heading level0 col5\" >housing</th>\n",
       "      <th id=\"T_108e5_level0_col6\" class=\"col_heading level0 col6\" >loan</th>\n",
       "      <th id=\"T_108e5_level0_col7\" class=\"col_heading level0 col7\" >contact</th>\n",
       "      <th id=\"T_108e5_level0_col8\" class=\"col_heading level0 col8\" >month</th>\n",
       "      <th id=\"T_108e5_level0_col9\" class=\"col_heading level0 col9\" >day_of_week</th>\n",
       "      <th id=\"T_108e5_level0_col10\" class=\"col_heading level0 col10\" >duration</th>\n",
       "      <th id=\"T_108e5_level0_col11\" class=\"col_heading level0 col11\" >campaign</th>\n",
       "      <th id=\"T_108e5_level0_col12\" class=\"col_heading level0 col12\" >pdays</th>\n",
       "      <th id=\"T_108e5_level0_col13\" class=\"col_heading level0 col13\" >previous</th>\n",
       "      <th id=\"T_108e5_level0_col14\" class=\"col_heading level0 col14\" >poutcome</th>\n",
       "      <th id=\"T_108e5_level0_col15\" class=\"col_heading level0 col15\" >emp.var.rate</th>\n",
       "      <th id=\"T_108e5_level0_col16\" class=\"col_heading level0 col16\" >cons.price.idx</th>\n",
       "      <th id=\"T_108e5_level0_col17\" class=\"col_heading level0 col17\" >cons.conf.idx</th>\n",
       "      <th id=\"T_108e5_level0_col18\" class=\"col_heading level0 col18\" >euribor3m</th>\n",
       "      <th id=\"T_108e5_level0_col19\" class=\"col_heading level0 col19\" >nr.employed</th>\n",
       "      <th id=\"T_108e5_level0_col20\" class=\"col_heading level0 col20\" >y</th>\n",
       "    </tr>\n",
       "  </thead>\n",
       "  <tbody>\n",
       "    <tr>\n",
       "      <th id=\"T_108e5_level0_row0\" class=\"row_heading level0 row0\" >count</th>\n",
       "      <td id=\"T_108e5_row0_col0\" class=\"data row0 col0\" >41176.000000</td>\n",
       "      <td id=\"T_108e5_row0_col1\" class=\"data row0 col1\" >41176</td>\n",
       "      <td id=\"T_108e5_row0_col2\" class=\"data row0 col2\" >41176</td>\n",
       "      <td id=\"T_108e5_row0_col3\" class=\"data row0 col3\" >41176</td>\n",
       "      <td id=\"T_108e5_row0_col4\" class=\"data row0 col4\" >41176</td>\n",
       "      <td id=\"T_108e5_row0_col5\" class=\"data row0 col5\" >41176</td>\n",
       "      <td id=\"T_108e5_row0_col6\" class=\"data row0 col6\" >41176</td>\n",
       "      <td id=\"T_108e5_row0_col7\" class=\"data row0 col7\" >41176</td>\n",
       "      <td id=\"T_108e5_row0_col8\" class=\"data row0 col8\" >41176</td>\n",
       "      <td id=\"T_108e5_row0_col9\" class=\"data row0 col9\" >41176</td>\n",
       "      <td id=\"T_108e5_row0_col10\" class=\"data row0 col10\" >41176.000000</td>\n",
       "      <td id=\"T_108e5_row0_col11\" class=\"data row0 col11\" >41176.000000</td>\n",
       "      <td id=\"T_108e5_row0_col12\" class=\"data row0 col12\" >41176.000000</td>\n",
       "      <td id=\"T_108e5_row0_col13\" class=\"data row0 col13\" >41176.000000</td>\n",
       "      <td id=\"T_108e5_row0_col14\" class=\"data row0 col14\" >41176</td>\n",
       "      <td id=\"T_108e5_row0_col15\" class=\"data row0 col15\" >41176.000000</td>\n",
       "      <td id=\"T_108e5_row0_col16\" class=\"data row0 col16\" >41176.000000</td>\n",
       "      <td id=\"T_108e5_row0_col17\" class=\"data row0 col17\" >41176.000000</td>\n",
       "      <td id=\"T_108e5_row0_col18\" class=\"data row0 col18\" >41176.000000</td>\n",
       "      <td id=\"T_108e5_row0_col19\" class=\"data row0 col19\" >41176.000000</td>\n",
       "      <td id=\"T_108e5_row0_col20\" class=\"data row0 col20\" >41176</td>\n",
       "    </tr>\n",
       "    <tr>\n",
       "      <th id=\"T_108e5_level0_row1\" class=\"row_heading level0 row1\" >unique</th>\n",
       "      <td id=\"T_108e5_row1_col0\" class=\"data row1 col0\" >nan</td>\n",
       "      <td id=\"T_108e5_row1_col1\" class=\"data row1 col1\" >12</td>\n",
       "      <td id=\"T_108e5_row1_col2\" class=\"data row1 col2\" >4</td>\n",
       "      <td id=\"T_108e5_row1_col3\" class=\"data row1 col3\" >8</td>\n",
       "      <td id=\"T_108e5_row1_col4\" class=\"data row1 col4\" >3</td>\n",
       "      <td id=\"T_108e5_row1_col5\" class=\"data row1 col5\" >3</td>\n",
       "      <td id=\"T_108e5_row1_col6\" class=\"data row1 col6\" >3</td>\n",
       "      <td id=\"T_108e5_row1_col7\" class=\"data row1 col7\" >2</td>\n",
       "      <td id=\"T_108e5_row1_col8\" class=\"data row1 col8\" >10</td>\n",
       "      <td id=\"T_108e5_row1_col9\" class=\"data row1 col9\" >5</td>\n",
       "      <td id=\"T_108e5_row1_col10\" class=\"data row1 col10\" >nan</td>\n",
       "      <td id=\"T_108e5_row1_col11\" class=\"data row1 col11\" >nan</td>\n",
       "      <td id=\"T_108e5_row1_col12\" class=\"data row1 col12\" >nan</td>\n",
       "      <td id=\"T_108e5_row1_col13\" class=\"data row1 col13\" >nan</td>\n",
       "      <td id=\"T_108e5_row1_col14\" class=\"data row1 col14\" >3</td>\n",
       "      <td id=\"T_108e5_row1_col15\" class=\"data row1 col15\" >nan</td>\n",
       "      <td id=\"T_108e5_row1_col16\" class=\"data row1 col16\" >nan</td>\n",
       "      <td id=\"T_108e5_row1_col17\" class=\"data row1 col17\" >nan</td>\n",
       "      <td id=\"T_108e5_row1_col18\" class=\"data row1 col18\" >nan</td>\n",
       "      <td id=\"T_108e5_row1_col19\" class=\"data row1 col19\" >nan</td>\n",
       "      <td id=\"T_108e5_row1_col20\" class=\"data row1 col20\" >2</td>\n",
       "    </tr>\n",
       "    <tr>\n",
       "      <th id=\"T_108e5_level0_row2\" class=\"row_heading level0 row2\" >top</th>\n",
       "      <td id=\"T_108e5_row2_col0\" class=\"data row2 col0\" >nan</td>\n",
       "      <td id=\"T_108e5_row2_col1\" class=\"data row2 col1\" >admin.</td>\n",
       "      <td id=\"T_108e5_row2_col2\" class=\"data row2 col2\" >married</td>\n",
       "      <td id=\"T_108e5_row2_col3\" class=\"data row2 col3\" >university.degree</td>\n",
       "      <td id=\"T_108e5_row2_col4\" class=\"data row2 col4\" >no</td>\n",
       "      <td id=\"T_108e5_row2_col5\" class=\"data row2 col5\" >yes</td>\n",
       "      <td id=\"T_108e5_row2_col6\" class=\"data row2 col6\" >no</td>\n",
       "      <td id=\"T_108e5_row2_col7\" class=\"data row2 col7\" >cellular</td>\n",
       "      <td id=\"T_108e5_row2_col8\" class=\"data row2 col8\" >may</td>\n",
       "      <td id=\"T_108e5_row2_col9\" class=\"data row2 col9\" >thu</td>\n",
       "      <td id=\"T_108e5_row2_col10\" class=\"data row2 col10\" >nan</td>\n",
       "      <td id=\"T_108e5_row2_col11\" class=\"data row2 col11\" >nan</td>\n",
       "      <td id=\"T_108e5_row2_col12\" class=\"data row2 col12\" >nan</td>\n",
       "      <td id=\"T_108e5_row2_col13\" class=\"data row2 col13\" >nan</td>\n",
       "      <td id=\"T_108e5_row2_col14\" class=\"data row2 col14\" >nonexistent</td>\n",
       "      <td id=\"T_108e5_row2_col15\" class=\"data row2 col15\" >nan</td>\n",
       "      <td id=\"T_108e5_row2_col16\" class=\"data row2 col16\" >nan</td>\n",
       "      <td id=\"T_108e5_row2_col17\" class=\"data row2 col17\" >nan</td>\n",
       "      <td id=\"T_108e5_row2_col18\" class=\"data row2 col18\" >nan</td>\n",
       "      <td id=\"T_108e5_row2_col19\" class=\"data row2 col19\" >nan</td>\n",
       "      <td id=\"T_108e5_row2_col20\" class=\"data row2 col20\" >no</td>\n",
       "    </tr>\n",
       "    <tr>\n",
       "      <th id=\"T_108e5_level0_row3\" class=\"row_heading level0 row3\" >freq</th>\n",
       "      <td id=\"T_108e5_row3_col0\" class=\"data row3 col0\" >nan</td>\n",
       "      <td id=\"T_108e5_row3_col1\" class=\"data row3 col1\" >10419</td>\n",
       "      <td id=\"T_108e5_row3_col2\" class=\"data row3 col2\" >24921</td>\n",
       "      <td id=\"T_108e5_row3_col3\" class=\"data row3 col3\" >12164</td>\n",
       "      <td id=\"T_108e5_row3_col4\" class=\"data row3 col4\" >32577</td>\n",
       "      <td id=\"T_108e5_row3_col5\" class=\"data row3 col5\" >21571</td>\n",
       "      <td id=\"T_108e5_row3_col6\" class=\"data row3 col6\" >33938</td>\n",
       "      <td id=\"T_108e5_row3_col7\" class=\"data row3 col7\" >26135</td>\n",
       "      <td id=\"T_108e5_row3_col8\" class=\"data row3 col8\" >13767</td>\n",
       "      <td id=\"T_108e5_row3_col9\" class=\"data row3 col9\" >8618</td>\n",
       "      <td id=\"T_108e5_row3_col10\" class=\"data row3 col10\" >nan</td>\n",
       "      <td id=\"T_108e5_row3_col11\" class=\"data row3 col11\" >nan</td>\n",
       "      <td id=\"T_108e5_row3_col12\" class=\"data row3 col12\" >nan</td>\n",
       "      <td id=\"T_108e5_row3_col13\" class=\"data row3 col13\" >nan</td>\n",
       "      <td id=\"T_108e5_row3_col14\" class=\"data row3 col14\" >35551</td>\n",
       "      <td id=\"T_108e5_row3_col15\" class=\"data row3 col15\" >nan</td>\n",
       "      <td id=\"T_108e5_row3_col16\" class=\"data row3 col16\" >nan</td>\n",
       "      <td id=\"T_108e5_row3_col17\" class=\"data row3 col17\" >nan</td>\n",
       "      <td id=\"T_108e5_row3_col18\" class=\"data row3 col18\" >nan</td>\n",
       "      <td id=\"T_108e5_row3_col19\" class=\"data row3 col19\" >nan</td>\n",
       "      <td id=\"T_108e5_row3_col20\" class=\"data row3 col20\" >36537</td>\n",
       "    </tr>\n",
       "    <tr>\n",
       "      <th id=\"T_108e5_level0_row4\" class=\"row_heading level0 row4\" >mean</th>\n",
       "      <td id=\"T_108e5_row4_col0\" class=\"data row4 col0\" >40.023800</td>\n",
       "      <td id=\"T_108e5_row4_col1\" class=\"data row4 col1\" >nan</td>\n",
       "      <td id=\"T_108e5_row4_col2\" class=\"data row4 col2\" >nan</td>\n",
       "      <td id=\"T_108e5_row4_col3\" class=\"data row4 col3\" >nan</td>\n",
       "      <td id=\"T_108e5_row4_col4\" class=\"data row4 col4\" >nan</td>\n",
       "      <td id=\"T_108e5_row4_col5\" class=\"data row4 col5\" >nan</td>\n",
       "      <td id=\"T_108e5_row4_col6\" class=\"data row4 col6\" >nan</td>\n",
       "      <td id=\"T_108e5_row4_col7\" class=\"data row4 col7\" >nan</td>\n",
       "      <td id=\"T_108e5_row4_col8\" class=\"data row4 col8\" >nan</td>\n",
       "      <td id=\"T_108e5_row4_col9\" class=\"data row4 col9\" >nan</td>\n",
       "      <td id=\"T_108e5_row4_col10\" class=\"data row4 col10\" >258.315815</td>\n",
       "      <td id=\"T_108e5_row4_col11\" class=\"data row4 col11\" >2.567879</td>\n",
       "      <td id=\"T_108e5_row4_col12\" class=\"data row4 col12\" >962.464810</td>\n",
       "      <td id=\"T_108e5_row4_col13\" class=\"data row4 col13\" >0.173013</td>\n",
       "      <td id=\"T_108e5_row4_col14\" class=\"data row4 col14\" >nan</td>\n",
       "      <td id=\"T_108e5_row4_col15\" class=\"data row4 col15\" >0.081922</td>\n",
       "      <td id=\"T_108e5_row4_col16\" class=\"data row4 col16\" >93.575720</td>\n",
       "      <td id=\"T_108e5_row4_col17\" class=\"data row4 col17\" >-40.502863</td>\n",
       "      <td id=\"T_108e5_row4_col18\" class=\"data row4 col18\" >3.621293</td>\n",
       "      <td id=\"T_108e5_row4_col19\" class=\"data row4 col19\" >5167.034870</td>\n",
       "      <td id=\"T_108e5_row4_col20\" class=\"data row4 col20\" >nan</td>\n",
       "    </tr>\n",
       "    <tr>\n",
       "      <th id=\"T_108e5_level0_row5\" class=\"row_heading level0 row5\" >std</th>\n",
       "      <td id=\"T_108e5_row5_col0\" class=\"data row5 col0\" >10.420680</td>\n",
       "      <td id=\"T_108e5_row5_col1\" class=\"data row5 col1\" >nan</td>\n",
       "      <td id=\"T_108e5_row5_col2\" class=\"data row5 col2\" >nan</td>\n",
       "      <td id=\"T_108e5_row5_col3\" class=\"data row5 col3\" >nan</td>\n",
       "      <td id=\"T_108e5_row5_col4\" class=\"data row5 col4\" >nan</td>\n",
       "      <td id=\"T_108e5_row5_col5\" class=\"data row5 col5\" >nan</td>\n",
       "      <td id=\"T_108e5_row5_col6\" class=\"data row5 col6\" >nan</td>\n",
       "      <td id=\"T_108e5_row5_col7\" class=\"data row5 col7\" >nan</td>\n",
       "      <td id=\"T_108e5_row5_col8\" class=\"data row5 col8\" >nan</td>\n",
       "      <td id=\"T_108e5_row5_col9\" class=\"data row5 col9\" >nan</td>\n",
       "      <td id=\"T_108e5_row5_col10\" class=\"data row5 col10\" >259.305321</td>\n",
       "      <td id=\"T_108e5_row5_col11\" class=\"data row5 col11\" >2.770318</td>\n",
       "      <td id=\"T_108e5_row5_col12\" class=\"data row5 col12\" >186.937102</td>\n",
       "      <td id=\"T_108e5_row5_col13\" class=\"data row5 col13\" >0.494964</td>\n",
       "      <td id=\"T_108e5_row5_col14\" class=\"data row5 col14\" >nan</td>\n",
       "      <td id=\"T_108e5_row5_col15\" class=\"data row5 col15\" >1.570883</td>\n",
       "      <td id=\"T_108e5_row5_col16\" class=\"data row5 col16\" >0.578839</td>\n",
       "      <td id=\"T_108e5_row5_col17\" class=\"data row5 col17\" >4.627860</td>\n",
       "      <td id=\"T_108e5_row5_col18\" class=\"data row5 col18\" >1.734437</td>\n",
       "      <td id=\"T_108e5_row5_col19\" class=\"data row5 col19\" >72.251364</td>\n",
       "      <td id=\"T_108e5_row5_col20\" class=\"data row5 col20\" >nan</td>\n",
       "    </tr>\n",
       "    <tr>\n",
       "      <th id=\"T_108e5_level0_row6\" class=\"row_heading level0 row6\" >min</th>\n",
       "      <td id=\"T_108e5_row6_col0\" class=\"data row6 col0\" >17.000000</td>\n",
       "      <td id=\"T_108e5_row6_col1\" class=\"data row6 col1\" >nan</td>\n",
       "      <td id=\"T_108e5_row6_col2\" class=\"data row6 col2\" >nan</td>\n",
       "      <td id=\"T_108e5_row6_col3\" class=\"data row6 col3\" >nan</td>\n",
       "      <td id=\"T_108e5_row6_col4\" class=\"data row6 col4\" >nan</td>\n",
       "      <td id=\"T_108e5_row6_col5\" class=\"data row6 col5\" >nan</td>\n",
       "      <td id=\"T_108e5_row6_col6\" class=\"data row6 col6\" >nan</td>\n",
       "      <td id=\"T_108e5_row6_col7\" class=\"data row6 col7\" >nan</td>\n",
       "      <td id=\"T_108e5_row6_col8\" class=\"data row6 col8\" >nan</td>\n",
       "      <td id=\"T_108e5_row6_col9\" class=\"data row6 col9\" >nan</td>\n",
       "      <td id=\"T_108e5_row6_col10\" class=\"data row6 col10\" >0.000000</td>\n",
       "      <td id=\"T_108e5_row6_col11\" class=\"data row6 col11\" >1.000000</td>\n",
       "      <td id=\"T_108e5_row6_col12\" class=\"data row6 col12\" >0.000000</td>\n",
       "      <td id=\"T_108e5_row6_col13\" class=\"data row6 col13\" >0.000000</td>\n",
       "      <td id=\"T_108e5_row6_col14\" class=\"data row6 col14\" >nan</td>\n",
       "      <td id=\"T_108e5_row6_col15\" class=\"data row6 col15\" >-3.400000</td>\n",
       "      <td id=\"T_108e5_row6_col16\" class=\"data row6 col16\" >92.201000</td>\n",
       "      <td id=\"T_108e5_row6_col17\" class=\"data row6 col17\" >-50.800000</td>\n",
       "      <td id=\"T_108e5_row6_col18\" class=\"data row6 col18\" >0.634000</td>\n",
       "      <td id=\"T_108e5_row6_col19\" class=\"data row6 col19\" >4963.600000</td>\n",
       "      <td id=\"T_108e5_row6_col20\" class=\"data row6 col20\" >nan</td>\n",
       "    </tr>\n",
       "    <tr>\n",
       "      <th id=\"T_108e5_level0_row7\" class=\"row_heading level0 row7\" >25%</th>\n",
       "      <td id=\"T_108e5_row7_col0\" class=\"data row7 col0\" >32.000000</td>\n",
       "      <td id=\"T_108e5_row7_col1\" class=\"data row7 col1\" >nan</td>\n",
       "      <td id=\"T_108e5_row7_col2\" class=\"data row7 col2\" >nan</td>\n",
       "      <td id=\"T_108e5_row7_col3\" class=\"data row7 col3\" >nan</td>\n",
       "      <td id=\"T_108e5_row7_col4\" class=\"data row7 col4\" >nan</td>\n",
       "      <td id=\"T_108e5_row7_col5\" class=\"data row7 col5\" >nan</td>\n",
       "      <td id=\"T_108e5_row7_col6\" class=\"data row7 col6\" >nan</td>\n",
       "      <td id=\"T_108e5_row7_col7\" class=\"data row7 col7\" >nan</td>\n",
       "      <td id=\"T_108e5_row7_col8\" class=\"data row7 col8\" >nan</td>\n",
       "      <td id=\"T_108e5_row7_col9\" class=\"data row7 col9\" >nan</td>\n",
       "      <td id=\"T_108e5_row7_col10\" class=\"data row7 col10\" >102.000000</td>\n",
       "      <td id=\"T_108e5_row7_col11\" class=\"data row7 col11\" >1.000000</td>\n",
       "      <td id=\"T_108e5_row7_col12\" class=\"data row7 col12\" >999.000000</td>\n",
       "      <td id=\"T_108e5_row7_col13\" class=\"data row7 col13\" >0.000000</td>\n",
       "      <td id=\"T_108e5_row7_col14\" class=\"data row7 col14\" >nan</td>\n",
       "      <td id=\"T_108e5_row7_col15\" class=\"data row7 col15\" >-1.800000</td>\n",
       "      <td id=\"T_108e5_row7_col16\" class=\"data row7 col16\" >93.075000</td>\n",
       "      <td id=\"T_108e5_row7_col17\" class=\"data row7 col17\" >-42.700000</td>\n",
       "      <td id=\"T_108e5_row7_col18\" class=\"data row7 col18\" >1.344000</td>\n",
       "      <td id=\"T_108e5_row7_col19\" class=\"data row7 col19\" >5099.100000</td>\n",
       "      <td id=\"T_108e5_row7_col20\" class=\"data row7 col20\" >nan</td>\n",
       "    </tr>\n",
       "    <tr>\n",
       "      <th id=\"T_108e5_level0_row8\" class=\"row_heading level0 row8\" >50%</th>\n",
       "      <td id=\"T_108e5_row8_col0\" class=\"data row8 col0\" >38.000000</td>\n",
       "      <td id=\"T_108e5_row8_col1\" class=\"data row8 col1\" >nan</td>\n",
       "      <td id=\"T_108e5_row8_col2\" class=\"data row8 col2\" >nan</td>\n",
       "      <td id=\"T_108e5_row8_col3\" class=\"data row8 col3\" >nan</td>\n",
       "      <td id=\"T_108e5_row8_col4\" class=\"data row8 col4\" >nan</td>\n",
       "      <td id=\"T_108e5_row8_col5\" class=\"data row8 col5\" >nan</td>\n",
       "      <td id=\"T_108e5_row8_col6\" class=\"data row8 col6\" >nan</td>\n",
       "      <td id=\"T_108e5_row8_col7\" class=\"data row8 col7\" >nan</td>\n",
       "      <td id=\"T_108e5_row8_col8\" class=\"data row8 col8\" >nan</td>\n",
       "      <td id=\"T_108e5_row8_col9\" class=\"data row8 col9\" >nan</td>\n",
       "      <td id=\"T_108e5_row8_col10\" class=\"data row8 col10\" >180.000000</td>\n",
       "      <td id=\"T_108e5_row8_col11\" class=\"data row8 col11\" >2.000000</td>\n",
       "      <td id=\"T_108e5_row8_col12\" class=\"data row8 col12\" >999.000000</td>\n",
       "      <td id=\"T_108e5_row8_col13\" class=\"data row8 col13\" >0.000000</td>\n",
       "      <td id=\"T_108e5_row8_col14\" class=\"data row8 col14\" >nan</td>\n",
       "      <td id=\"T_108e5_row8_col15\" class=\"data row8 col15\" >1.100000</td>\n",
       "      <td id=\"T_108e5_row8_col16\" class=\"data row8 col16\" >93.749000</td>\n",
       "      <td id=\"T_108e5_row8_col17\" class=\"data row8 col17\" >-41.800000</td>\n",
       "      <td id=\"T_108e5_row8_col18\" class=\"data row8 col18\" >4.857000</td>\n",
       "      <td id=\"T_108e5_row8_col19\" class=\"data row8 col19\" >5191.000000</td>\n",
       "      <td id=\"T_108e5_row8_col20\" class=\"data row8 col20\" >nan</td>\n",
       "    </tr>\n",
       "    <tr>\n",
       "      <th id=\"T_108e5_level0_row9\" class=\"row_heading level0 row9\" >75%</th>\n",
       "      <td id=\"T_108e5_row9_col0\" class=\"data row9 col0\" >47.000000</td>\n",
       "      <td id=\"T_108e5_row9_col1\" class=\"data row9 col1\" >nan</td>\n",
       "      <td id=\"T_108e5_row9_col2\" class=\"data row9 col2\" >nan</td>\n",
       "      <td id=\"T_108e5_row9_col3\" class=\"data row9 col3\" >nan</td>\n",
       "      <td id=\"T_108e5_row9_col4\" class=\"data row9 col4\" >nan</td>\n",
       "      <td id=\"T_108e5_row9_col5\" class=\"data row9 col5\" >nan</td>\n",
       "      <td id=\"T_108e5_row9_col6\" class=\"data row9 col6\" >nan</td>\n",
       "      <td id=\"T_108e5_row9_col7\" class=\"data row9 col7\" >nan</td>\n",
       "      <td id=\"T_108e5_row9_col8\" class=\"data row9 col8\" >nan</td>\n",
       "      <td id=\"T_108e5_row9_col9\" class=\"data row9 col9\" >nan</td>\n",
       "      <td id=\"T_108e5_row9_col10\" class=\"data row9 col10\" >319.000000</td>\n",
       "      <td id=\"T_108e5_row9_col11\" class=\"data row9 col11\" >3.000000</td>\n",
       "      <td id=\"T_108e5_row9_col12\" class=\"data row9 col12\" >999.000000</td>\n",
       "      <td id=\"T_108e5_row9_col13\" class=\"data row9 col13\" >0.000000</td>\n",
       "      <td id=\"T_108e5_row9_col14\" class=\"data row9 col14\" >nan</td>\n",
       "      <td id=\"T_108e5_row9_col15\" class=\"data row9 col15\" >1.400000</td>\n",
       "      <td id=\"T_108e5_row9_col16\" class=\"data row9 col16\" >93.994000</td>\n",
       "      <td id=\"T_108e5_row9_col17\" class=\"data row9 col17\" >-36.400000</td>\n",
       "      <td id=\"T_108e5_row9_col18\" class=\"data row9 col18\" >4.961000</td>\n",
       "      <td id=\"T_108e5_row9_col19\" class=\"data row9 col19\" >5228.100000</td>\n",
       "      <td id=\"T_108e5_row9_col20\" class=\"data row9 col20\" >nan</td>\n",
       "    </tr>\n",
       "    <tr>\n",
       "      <th id=\"T_108e5_level0_row10\" class=\"row_heading level0 row10\" >max</th>\n",
       "      <td id=\"T_108e5_row10_col0\" class=\"data row10 col0\" >98.000000</td>\n",
       "      <td id=\"T_108e5_row10_col1\" class=\"data row10 col1\" >nan</td>\n",
       "      <td id=\"T_108e5_row10_col2\" class=\"data row10 col2\" >nan</td>\n",
       "      <td id=\"T_108e5_row10_col3\" class=\"data row10 col3\" >nan</td>\n",
       "      <td id=\"T_108e5_row10_col4\" class=\"data row10 col4\" >nan</td>\n",
       "      <td id=\"T_108e5_row10_col5\" class=\"data row10 col5\" >nan</td>\n",
       "      <td id=\"T_108e5_row10_col6\" class=\"data row10 col6\" >nan</td>\n",
       "      <td id=\"T_108e5_row10_col7\" class=\"data row10 col7\" >nan</td>\n",
       "      <td id=\"T_108e5_row10_col8\" class=\"data row10 col8\" >nan</td>\n",
       "      <td id=\"T_108e5_row10_col9\" class=\"data row10 col9\" >nan</td>\n",
       "      <td id=\"T_108e5_row10_col10\" class=\"data row10 col10\" >4918.000000</td>\n",
       "      <td id=\"T_108e5_row10_col11\" class=\"data row10 col11\" >56.000000</td>\n",
       "      <td id=\"T_108e5_row10_col12\" class=\"data row10 col12\" >999.000000</td>\n",
       "      <td id=\"T_108e5_row10_col13\" class=\"data row10 col13\" >7.000000</td>\n",
       "      <td id=\"T_108e5_row10_col14\" class=\"data row10 col14\" >nan</td>\n",
       "      <td id=\"T_108e5_row10_col15\" class=\"data row10 col15\" >1.400000</td>\n",
       "      <td id=\"T_108e5_row10_col16\" class=\"data row10 col16\" >94.767000</td>\n",
       "      <td id=\"T_108e5_row10_col17\" class=\"data row10 col17\" >-26.900000</td>\n",
       "      <td id=\"T_108e5_row10_col18\" class=\"data row10 col18\" >5.045000</td>\n",
       "      <td id=\"T_108e5_row10_col19\" class=\"data row10 col19\" >5228.100000</td>\n",
       "      <td id=\"T_108e5_row10_col20\" class=\"data row10 col20\" >nan</td>\n",
       "    </tr>\n",
       "  </tbody>\n",
       "</table>\n"
      ],
      "text/plain": [
       "<pandas.io.formats.style.Styler at 0x2b966d998e0>"
      ]
     },
     "execution_count": 9,
     "metadata": {},
     "output_type": "execute_result"
    }
   ],
   "source": [
    "df.describe(include='all').style.background_gradient(cmap='Blues')"
   ]
  },
  {
   "cell_type": "markdown",
   "id": "fb0c59c1",
   "metadata": {},
   "source": [
    "#### <center>since there is no much difference between mean and median values for each continous feature there seems to be no outliers in the data except for \"duration\"  feature which has some deviation. so checking for outlier in that feature.</center>"
   ]
  },
  {
   "cell_type": "code",
   "execution_count": 10,
   "id": "d3a7f4eb",
   "metadata": {},
   "outputs": [
    {
     "data": {
      "image/png": "[encoded data removed]",
      "text/plain": [
       "<Figure size 432x288 with 2 Axes>"
      ]
     },
     "metadata": {
      "needs_background": "light"
     },
     "output_type": "display_data"
    }
   ],
   "source": [
    "# checking for outliers for duration to be sure as there is some difference b/w mean and median\n",
    "fig,ax1 = plt.subplots(2,1)\n",
    "sns.distplot(df['duration'],ax=ax1[0])\n",
    "sns.boxplot(df['duration'],ax=ax1[1])\n",
    "plt.show()"
   ]
  },
  {
   "cell_type": "code",
   "execution_count": 11,
   "id": "d63d6731",
   "metadata": {},
   "outputs": [
    {
     "data": {
      "text/html": [
       "<div>\n",
       "<style scoped>\n",
       "    .dataframe tbody tr th:only-of-type {\n",
       "        vertical-align: middle;\n",
       "    }\n",
       "\n",
       "    .dataframe tbody tr th {\n",
       "        vertical-align: top;\n",
       "    }\n",
       "\n",
       "    .dataframe thead th {\n",
       "        text-align: right;\n",
       "    }\n",
       "</style>\n",
       "<table border=\"1\" class=\"dataframe\">\n",
       "  <thead>\n",
       "    <tr style=\"text-align: right;\">\n",
       "      <th></th>\n",
       "      <th>age</th>\n",
       "      <th>job</th>\n",
       "      <th>marital</th>\n",
       "      <th>education</th>\n",
       "      <th>default</th>\n",
       "      <th>housing</th>\n",
       "      <th>loan</th>\n",
       "      <th>contact</th>\n",
       "      <th>month</th>\n",
       "      <th>day_of_week</th>\n",
       "      <th>...</th>\n",
       "      <th>campaign</th>\n",
       "      <th>pdays</th>\n",
       "      <th>previous</th>\n",
       "      <th>poutcome</th>\n",
       "      <th>emp.var.rate</th>\n",
       "      <th>cons.price.idx</th>\n",
       "      <th>cons.conf.idx</th>\n",
       "      <th>euribor3m</th>\n",
       "      <th>nr.employed</th>\n",
       "      <th>y</th>\n",
       "    </tr>\n",
       "  </thead>\n",
       "  <tbody>\n",
       "    <tr>\n",
       "      <th>37</th>\n",
       "      <td>52</td>\n",
       "      <td>technician</td>\n",
       "      <td>married</td>\n",
       "      <td>basic.9y</td>\n",
       "      <td>no</td>\n",
       "      <td>yes</td>\n",
       "      <td>no</td>\n",
       "      <td>telephone</td>\n",
       "      <td>may</td>\n",
       "      <td>mon</td>\n",
       "      <td>...</td>\n",
       "      <td>1</td>\n",
       "      <td>999</td>\n",
       "      <td>0</td>\n",
       "      <td>nonexistent</td>\n",
       "      <td>1.1</td>\n",
       "      <td>93.994</td>\n",
       "      <td>-36.4</td>\n",
       "      <td>4.857</td>\n",
       "      <td>5191.0</td>\n",
       "      <td>no</td>\n",
       "    </tr>\n",
       "    <tr>\n",
       "      <th>61</th>\n",
       "      <td>51</td>\n",
       "      <td>blue-collar</td>\n",
       "      <td>married</td>\n",
       "      <td>basic.9y</td>\n",
       "      <td>no</td>\n",
       "      <td>yes</td>\n",
       "      <td>no</td>\n",
       "      <td>telephone</td>\n",
       "      <td>may</td>\n",
       "      <td>mon</td>\n",
       "      <td>...</td>\n",
       "      <td>1</td>\n",
       "      <td>999</td>\n",
       "      <td>0</td>\n",
       "      <td>nonexistent</td>\n",
       "      <td>1.1</td>\n",
       "      <td>93.994</td>\n",
       "      <td>-36.4</td>\n",
       "      <td>4.857</td>\n",
       "      <td>5191.0</td>\n",
       "      <td>no</td>\n",
       "    </tr>\n",
       "    <tr>\n",
       "      <th>75</th>\n",
       "      <td>41</td>\n",
       "      <td>blue-collar</td>\n",
       "      <td>divorced</td>\n",
       "      <td>basic.4y</td>\n",
       "      <td>unknown</td>\n",
       "      <td>yes</td>\n",
       "      <td>no</td>\n",
       "      <td>telephone</td>\n",
       "      <td>may</td>\n",
       "      <td>mon</td>\n",
       "      <td>...</td>\n",
       "      <td>1</td>\n",
       "      <td>999</td>\n",
       "      <td>0</td>\n",
       "      <td>nonexistent</td>\n",
       "      <td>1.1</td>\n",
       "      <td>93.994</td>\n",
       "      <td>-36.4</td>\n",
       "      <td>4.857</td>\n",
       "      <td>5191.0</td>\n",
       "      <td>yes</td>\n",
       "    </tr>\n",
       "    <tr>\n",
       "      <th>83</th>\n",
       "      <td>49</td>\n",
       "      <td>entrepreneur</td>\n",
       "      <td>married</td>\n",
       "      <td>university.degree</td>\n",
       "      <td>unknown</td>\n",
       "      <td>yes</td>\n",
       "      <td>no</td>\n",
       "      <td>telephone</td>\n",
       "      <td>may</td>\n",
       "      <td>mon</td>\n",
       "      <td>...</td>\n",
       "      <td>1</td>\n",
       "      <td>999</td>\n",
       "      <td>0</td>\n",
       "      <td>nonexistent</td>\n",
       "      <td>1.1</td>\n",
       "      <td>93.994</td>\n",
       "      <td>-36.4</td>\n",
       "      <td>4.857</td>\n",
       "      <td>5191.0</td>\n",
       "      <td>yes</td>\n",
       "    </tr>\n",
       "    <tr>\n",
       "      <th>88</th>\n",
       "      <td>49</td>\n",
       "      <td>technician</td>\n",
       "      <td>married</td>\n",
       "      <td>basic.9y</td>\n",
       "      <td>no</td>\n",
       "      <td>no</td>\n",
       "      <td>no</td>\n",
       "      <td>telephone</td>\n",
       "      <td>may</td>\n",
       "      <td>mon</td>\n",
       "      <td>...</td>\n",
       "      <td>1</td>\n",
       "      <td>999</td>\n",
       "      <td>0</td>\n",
       "      <td>nonexistent</td>\n",
       "      <td>1.1</td>\n",
       "      <td>93.994</td>\n",
       "      <td>-36.4</td>\n",
       "      <td>4.857</td>\n",
       "      <td>5191.0</td>\n",
       "      <td>yes</td>\n",
       "    </tr>\n",
       "    <tr>\n",
       "      <th>...</th>\n",
       "      <td>...</td>\n",
       "      <td>...</td>\n",
       "      <td>...</td>\n",
       "      <td>...</td>\n",
       "      <td>...</td>\n",
       "      <td>...</td>\n",
       "      <td>...</td>\n",
       "      <td>...</td>\n",
       "      <td>...</td>\n",
       "      <td>...</td>\n",
       "      <td>...</td>\n",
       "      <td>...</td>\n",
       "      <td>...</td>\n",
       "      <td>...</td>\n",
       "      <td>...</td>\n",
       "      <td>...</td>\n",
       "      <td>...</td>\n",
       "      <td>...</td>\n",
       "      <td>...</td>\n",
       "      <td>...</td>\n",
       "      <td>...</td>\n",
       "    </tr>\n",
       "    <tr>\n",
       "      <th>41121</th>\n",
       "      <td>46</td>\n",
       "      <td>admin.</td>\n",
       "      <td>single</td>\n",
       "      <td>university.degree</td>\n",
       "      <td>no</td>\n",
       "      <td>yes</td>\n",
       "      <td>no</td>\n",
       "      <td>cellular</td>\n",
       "      <td>nov</td>\n",
       "      <td>tue</td>\n",
       "      <td>...</td>\n",
       "      <td>3</td>\n",
       "      <td>999</td>\n",
       "      <td>1</td>\n",
       "      <td>failure</td>\n",
       "      <td>-1.1</td>\n",
       "      <td>94.767</td>\n",
       "      <td>-50.8</td>\n",
       "      <td>1.046</td>\n",
       "      <td>4963.6</td>\n",
       "      <td>no</td>\n",
       "    </tr>\n",
       "    <tr>\n",
       "      <th>41122</th>\n",
       "      <td>34</td>\n",
       "      <td>technician</td>\n",
       "      <td>married</td>\n",
       "      <td>unknown</td>\n",
       "      <td>no</td>\n",
       "      <td>no</td>\n",
       "      <td>no</td>\n",
       "      <td>cellular</td>\n",
       "      <td>nov</td>\n",
       "      <td>tue</td>\n",
       "      <td>...</td>\n",
       "      <td>3</td>\n",
       "      <td>999</td>\n",
       "      <td>0</td>\n",
       "      <td>nonexistent</td>\n",
       "      <td>-1.1</td>\n",
       "      <td>94.767</td>\n",
       "      <td>-50.8</td>\n",
       "      <td>1.046</td>\n",
       "      <td>4963.6</td>\n",
       "      <td>yes</td>\n",
       "    </tr>\n",
       "    <tr>\n",
       "      <th>41123</th>\n",
       "      <td>36</td>\n",
       "      <td>blue-collar</td>\n",
       "      <td>single</td>\n",
       "      <td>basic.6y</td>\n",
       "      <td>no</td>\n",
       "      <td>no</td>\n",
       "      <td>no</td>\n",
       "      <td>cellular</td>\n",
       "      <td>nov</td>\n",
       "      <td>tue</td>\n",
       "      <td>...</td>\n",
       "      <td>4</td>\n",
       "      <td>999</td>\n",
       "      <td>0</td>\n",
       "      <td>nonexistent</td>\n",
       "      <td>-1.1</td>\n",
       "      <td>94.767</td>\n",
       "      <td>-50.8</td>\n",
       "      <td>1.046</td>\n",
       "      <td>4963.6</td>\n",
       "      <td>yes</td>\n",
       "    </tr>\n",
       "    <tr>\n",
       "      <th>41160</th>\n",
       "      <td>33</td>\n",
       "      <td>admin.</td>\n",
       "      <td>married</td>\n",
       "      <td>university.degree</td>\n",
       "      <td>no</td>\n",
       "      <td>no</td>\n",
       "      <td>no</td>\n",
       "      <td>cellular</td>\n",
       "      <td>nov</td>\n",
       "      <td>tue</td>\n",
       "      <td>...</td>\n",
       "      <td>1</td>\n",
       "      <td>999</td>\n",
       "      <td>0</td>\n",
       "      <td>nonexistent</td>\n",
       "      <td>-1.1</td>\n",
       "      <td>94.767</td>\n",
       "      <td>-50.8</td>\n",
       "      <td>1.035</td>\n",
       "      <td>4963.6</td>\n",
       "      <td>yes</td>\n",
       "    </tr>\n",
       "    <tr>\n",
       "      <th>41164</th>\n",
       "      <td>54</td>\n",
       "      <td>admin.</td>\n",
       "      <td>married</td>\n",
       "      <td>professional.course</td>\n",
       "      <td>no</td>\n",
       "      <td>no</td>\n",
       "      <td>no</td>\n",
       "      <td>cellular</td>\n",
       "      <td>nov</td>\n",
       "      <td>tue</td>\n",
       "      <td>...</td>\n",
       "      <td>2</td>\n",
       "      <td>10</td>\n",
       "      <td>1</td>\n",
       "      <td>success</td>\n",
       "      <td>-1.1</td>\n",
       "      <td>94.767</td>\n",
       "      <td>-50.8</td>\n",
       "      <td>1.035</td>\n",
       "      <td>4963.6</td>\n",
       "      <td>yes</td>\n",
       "    </tr>\n",
       "  </tbody>\n",
       "</table>\n",
       "<p>1757 rows × 21 columns</p>\n",
       "</div>"
      ],
      "text/plain": [
       "       age           job   marital            education  default housing loan  \\\n",
       "37      52    technician   married             basic.9y       no     yes   no   \n",
       "61      51   blue-collar   married             basic.9y       no     yes   no   \n",
       "75      41   blue-collar  divorced             basic.4y  unknown     yes   no   \n",
       "83      49  entrepreneur   married    university.degree  unknown     yes   no   \n",
       "88      49    technician   married             basic.9y       no      no   no   \n",
       "...    ...           ...       ...                  ...      ...     ...  ...   \n",
       "41121   46        admin.    single    university.degree       no     yes   no   \n",
       "41122   34    technician   married              unknown       no      no   no   \n",
       "41123   36   blue-collar    single             basic.6y       no      no   no   \n",
       "41160   33        admin.   married    university.degree       no      no   no   \n",
       "41164   54        admin.   married  professional.course       no      no   no   \n",
       "\n",
       "         contact month day_of_week  ...  campaign  pdays  previous  \\\n",
       "37     telephone   may         mon  ...         1    999         0   \n",
       "61     telephone   may         mon  ...         1    999         0   \n",
       "75     telephone   may         mon  ...         1    999         0   \n",
       "83     telephone   may         mon  ...         1    999         0   \n",
       "88     telephone   may         mon  ...         1    999         0   \n",
       "...          ...   ...         ...  ...       ...    ...       ...   \n",
       "41121   cellular   nov         tue  ...         3    999         1   \n",
       "41122   cellular   nov         tue  ...         3    999         0   \n",
       "41123   cellular   nov         tue  ...         4    999         0   \n",
       "41160   cellular   nov         tue  ...         1    999         0   \n",
       "41164   cellular   nov         tue  ...         2     10         1   \n",
       "\n",
       "          poutcome emp.var.rate  cons.price.idx  cons.conf.idx  euribor3m  \\\n",
       "37     nonexistent          1.1          93.994          -36.4      4.857   \n",
       "61     nonexistent          1.1          93.994          -36.4      4.857   \n",
       "75     nonexistent          1.1          93.994          -36.4      4.857   \n",
       "83     nonexistent          1.1          93.994          -36.4      4.857   \n",
       "88     nonexistent          1.1          93.994          -36.4      4.857   \n",
       "...            ...          ...             ...            ...        ...   \n",
       "41121      failure         -1.1          94.767          -50.8      1.046   \n",
       "41122  nonexistent         -1.1          94.767          -50.8      1.046   \n",
       "41123  nonexistent         -1.1          94.767          -50.8      1.046   \n",
       "41160  nonexistent         -1.1          94.767          -50.8      1.035   \n",
       "41164      success         -1.1          94.767          -50.8      1.035   \n",
       "\n",
       "       nr.employed    y  \n",
       "37          5191.0   no  \n",
       "61          5191.0   no  \n",
       "75          5191.0  yes  \n",
       "83          5191.0  yes  \n",
       "88          5191.0  yes  \n",
       "...            ...  ...  \n",
       "41121       4963.6   no  \n",
       "41122       4963.6  yes  \n",
       "41123       4963.6  yes  \n",
       "41160       4963.6  yes  \n",
       "41164       4963.6  yes  \n",
       "\n",
       "[1757 rows x 21 columns]"
      ]
     },
     "execution_count": 11,
     "metadata": {},
     "output_type": "execute_result"
    }
   ],
   "source": [
    "df[df['duration']>800]"
   ]
  },
  {
   "cell_type": "markdown",
   "id": "8be6a1f5",
   "metadata": {},
   "source": [
    "#### <center>as expected we have outliers in the duration feature since there are too many rows as outliers i am treating only for values greater than 3500</center>"
   ]
  },
  {
   "cell_type": "code",
   "execution_count": 12,
   "id": "3de96c0a",
   "metadata": {},
   "outputs": [],
   "source": [
    "# outlier Treament for duration feature -- imputing median value where value value is greater than equal to 3500.\n",
    "df['duration']=np.where(df['duration']>=3500,df['duration'].median(),df['duration'])"
   ]
  },
  {
   "cell_type": "code",
   "execution_count": 13,
   "id": "face1a8b",
   "metadata": {},
   "outputs": [
    {
     "data": {
      "text/plain": [
       "no     36537\n",
       "yes     4639\n",
       "Name: y, dtype: int64"
      ]
     },
     "execution_count": 13,
     "metadata": {},
     "output_type": "execute_result"
    }
   ],
   "source": [
    "df['y'].value_counts()"
   ]
  },
  {
   "cell_type": "markdown",
   "id": "36614910",
   "metadata": {},
   "source": [
    "#### Since the frequency of yes and no are very different this is an <b>Imbalanced Dataset."
   ]
  },
  {
   "cell_type": "markdown",
   "id": "edfc9e0b",
   "metadata": {},
   "source": [
    "# <center>Exploratory Data Analysis</center>"
   ]
  },
  {
   "cell_type": "code",
   "execution_count": 14,
   "id": "e4017d81",
   "metadata": {},
   "outputs": [
    {
     "data": {
      "image/png": "[encoded data removed]",
      "text/plain": [
       "<Figure size 576x360 with 1 Axes>"
      ]
     },
     "metadata": {
      "needs_background": "light"
     },
     "output_type": "display_data"
    }
   ],
   "source": [
    "plt.figure(figsize=(8,5))\n",
    "sns.barplot(x='age',y='y',data=df, palette='rainbow')\n",
    "plt.show()"
   ]
  },
  {
   "cell_type": "code",
   "execution_count": 15,
   "id": "0e26ea07",
   "metadata": {},
   "outputs": [
    {
     "data": {
      "image/png": "[encoded data removed]",
      "text/plain": [
       "<Figure size 432x288 with 1 Axes>"
      ]
     },
     "metadata": {
      "needs_background": "light"
     },
     "output_type": "display_data"
    }
   ],
   "source": [
    "df.age.plot.density(color='green')\n",
    "plt.title('age ')\n",
    "plt.show()"
   ]
  },
  {
   "cell_type": "markdown",
   "id": "414786e7",
   "metadata": {},
   "source": [
    "#### Here since the age targeted here is almost of age greater than 20 and below 60, the plots here must make sense and age "
   ]
  },
  {
   "cell_type": "code",
   "execution_count": 16,
   "id": "b6b082a6",
   "metadata": {},
   "outputs": [
    {
     "data": {
      "image/png": "[encoded data removed]",
      "text/plain": [
       "<Figure size 432x288 with 1 Axes>"
      ]
     },
     "metadata": {
      "needs_background": "light"
     },
     "output_type": "display_data"
    }
   ],
   "source": [
    "sns.histplot(data=df, x=\"job\", hue=\"y\", multiple=\"stack\", palette='rainbow')\n",
    "plt.xticks(rotation = 45, ha=\"right\")\n",
    "plt.show()"
   ]
  },
  {
   "cell_type": "markdown",
   "id": "bad18d26",
   "metadata": {},
   "source": [
    "#### Conclusion: The plot says that, customers who are belog to admin profile is most likely to subscribe to a term deposit"
   ]
  },
  {
   "cell_type": "code",
   "execution_count": 17,
   "id": "e3f3d3a3",
   "metadata": {},
   "outputs": [
    {
     "data": {
      "image/png": "[encoded data removed]",
      "text/plain": [
       "<Figure size 432x288 with 1 Axes>"
      ]
     },
     "metadata": {
      "needs_background": "light"
     },
     "output_type": "display_data"
    }
   ],
   "source": [
    "sns.histplot(data=df, x=\"education\", hue=\"y\", multiple=\"stack\",palette='rainbow')\n",
    "plt.xticks(rotation = 45, ha=\"right\")\n",
    "plt.show()"
   ]
  },
  {
   "cell_type": "markdown",
   "id": "851fc057",
   "metadata": {},
   "source": [
    "#### Conclusion: The plot says that, customers who are Degree holders and completed High Schooling is most likely to subscribe to a term deposit."
   ]
  },
  {
   "cell_type": "code",
   "execution_count": 18,
   "id": "5b1aa573",
   "metadata": {},
   "outputs": [
    {
     "data": {
      "image/png": "[encoded data removed]",
      "text/plain": [
       "<Figure size 432x288 with 1 Axes>"
      ]
     },
     "metadata": {
      "needs_background": "light"
     },
     "output_type": "display_data"
    }
   ],
   "source": [
    "sns.histplot(data=df, x=\"marital\", hue=\"y\", multiple=\"stack\")\n",
    "plt.xticks(rotation = 45, ha=\"right\")\n",
    "plt.show()"
   ]
  },
  {
   "cell_type": "markdown",
   "id": "f7d2d114",
   "metadata": {},
   "source": [
    "#### Conclusion: The plot says that, customers who are maried are most likely to subscribe to a term deposit."
   ]
  },
  {
   "cell_type": "code",
   "execution_count": 19,
   "id": "d5ca4abd",
   "metadata": {},
   "outputs": [
    {
     "data": {
      "image/png": "[encoded data removed]",
      "text/plain": [
       "<Figure size 252x252 with 1 Axes>"
      ]
     },
     "metadata": {
      "needs_background": "light"
     },
     "output_type": "display_data"
    }
   ],
   "source": [
    "sns.PairGrid(df,x_vars='y',y_vars='duration',height = 3.5).map(plt.scatter, color='darkred', alpha = 0.3)\n",
    "plt.show()"
   ]
  },
  {
   "cell_type": "markdown",
   "id": "e21c20a9",
   "metadata": {},
   "source": [
    "#### Conclusion: The plot says that, duration is not influencing the customer to subscribe to a term deposit much."
   ]
  },
  {
   "cell_type": "code",
   "execution_count": 20,
   "id": "106c2a55",
   "metadata": {},
   "outputs": [
    {
     "data": {
      "image/png": "[encoded data removed]",
      "text/plain": [
       "<Figure size 1080x576 with 2 Axes>"
      ]
     },
     "metadata": {
      "needs_background": "light"
     },
     "output_type": "display_data"
    }
   ],
   "source": [
    "plt.figure(figsize=(15,8))\n",
    "sns.heatmap(df.corr(),annot = True)\n",
    "plt.show()"
   ]
  },
  {
   "cell_type": "markdown",
   "id": "6c35c94f",
   "metadata": {},
   "source": [
    "# <center>Feature Engineering</center>"
   ]
  },
  {
   "cell_type": "code",
   "execution_count": 21,
   "id": "85c79e2c",
   "metadata": {},
   "outputs": [],
   "source": [
    "# Labele Encoding the target variable \n",
    "labelencoder=LabelEncoder()\n",
    "df['y']=labelencoder.fit_transform(df['y'])"
   ]
  },
  {
   "cell_type": "code",
   "execution_count": 22,
   "id": "bf0792f8",
   "metadata": {},
   "outputs": [],
   "source": [
    "# Converting the categprical features to numerical features\n",
    "for i in df.columns:\n",
    "    if df[i].dtype == \"object\":\n",
    "        df[i]=df[i].astype('category').cat.codes"
   ]
  },
  {
   "cell_type": "code",
   "execution_count": 23,
   "id": "02e550ae",
   "metadata": {},
   "outputs": [
    {
     "data": {
      "text/html": [
       "<div>\n",
       "<style scoped>\n",
       "    .dataframe tbody tr th:only-of-type {\n",
       "        vertical-align: middle;\n",
       "    }\n",
       "\n",
       "    .dataframe tbody tr th {\n",
       "        vertical-align: top;\n",
       "    }\n",
       "\n",
       "    .dataframe thead th {\n",
       "        text-align: right;\n",
       "    }\n",
       "</style>\n",
       "<table border=\"1\" class=\"dataframe\">\n",
       "  <thead>\n",
       "    <tr style=\"text-align: right;\">\n",
       "      <th></th>\n",
       "      <th>age</th>\n",
       "      <th>job</th>\n",
       "      <th>marital</th>\n",
       "      <th>education</th>\n",
       "      <th>default</th>\n",
       "      <th>housing</th>\n",
       "      <th>loan</th>\n",
       "      <th>contact</th>\n",
       "      <th>month</th>\n",
       "      <th>day_of_week</th>\n",
       "      <th>...</th>\n",
       "      <th>campaign</th>\n",
       "      <th>pdays</th>\n",
       "      <th>previous</th>\n",
       "      <th>poutcome</th>\n",
       "      <th>emp.var.rate</th>\n",
       "      <th>cons.price.idx</th>\n",
       "      <th>cons.conf.idx</th>\n",
       "      <th>euribor3m</th>\n",
       "      <th>nr.employed</th>\n",
       "      <th>y</th>\n",
       "    </tr>\n",
       "  </thead>\n",
       "  <tbody>\n",
       "    <tr>\n",
       "      <th>0</th>\n",
       "      <td>56</td>\n",
       "      <td>3</td>\n",
       "      <td>1</td>\n",
       "      <td>0</td>\n",
       "      <td>0</td>\n",
       "      <td>0</td>\n",
       "      <td>0</td>\n",
       "      <td>1</td>\n",
       "      <td>6</td>\n",
       "      <td>1</td>\n",
       "      <td>...</td>\n",
       "      <td>1</td>\n",
       "      <td>999</td>\n",
       "      <td>0</td>\n",
       "      <td>1</td>\n",
       "      <td>1.1</td>\n",
       "      <td>93.994</td>\n",
       "      <td>-36.4</td>\n",
       "      <td>4.857</td>\n",
       "      <td>5191.0</td>\n",
       "      <td>0</td>\n",
       "    </tr>\n",
       "    <tr>\n",
       "      <th>1</th>\n",
       "      <td>57</td>\n",
       "      <td>7</td>\n",
       "      <td>1</td>\n",
       "      <td>3</td>\n",
       "      <td>1</td>\n",
       "      <td>0</td>\n",
       "      <td>0</td>\n",
       "      <td>1</td>\n",
       "      <td>6</td>\n",
       "      <td>1</td>\n",
       "      <td>...</td>\n",
       "      <td>1</td>\n",
       "      <td>999</td>\n",
       "      <td>0</td>\n",
       "      <td>1</td>\n",
       "      <td>1.1</td>\n",
       "      <td>93.994</td>\n",
       "      <td>-36.4</td>\n",
       "      <td>4.857</td>\n",
       "      <td>5191.0</td>\n",
       "      <td>0</td>\n",
       "    </tr>\n",
       "    <tr>\n",
       "      <th>2</th>\n",
       "      <td>37</td>\n",
       "      <td>7</td>\n",
       "      <td>1</td>\n",
       "      <td>3</td>\n",
       "      <td>0</td>\n",
       "      <td>2</td>\n",
       "      <td>0</td>\n",
       "      <td>1</td>\n",
       "      <td>6</td>\n",
       "      <td>1</td>\n",
       "      <td>...</td>\n",
       "      <td>1</td>\n",
       "      <td>999</td>\n",
       "      <td>0</td>\n",
       "      <td>1</td>\n",
       "      <td>1.1</td>\n",
       "      <td>93.994</td>\n",
       "      <td>-36.4</td>\n",
       "      <td>4.857</td>\n",
       "      <td>5191.0</td>\n",
       "      <td>0</td>\n",
       "    </tr>\n",
       "    <tr>\n",
       "      <th>3</th>\n",
       "      <td>40</td>\n",
       "      <td>0</td>\n",
       "      <td>1</td>\n",
       "      <td>1</td>\n",
       "      <td>0</td>\n",
       "      <td>0</td>\n",
       "      <td>0</td>\n",
       "      <td>1</td>\n",
       "      <td>6</td>\n",
       "      <td>1</td>\n",
       "      <td>...</td>\n",
       "      <td>1</td>\n",
       "      <td>999</td>\n",
       "      <td>0</td>\n",
       "      <td>1</td>\n",
       "      <td>1.1</td>\n",
       "      <td>93.994</td>\n",
       "      <td>-36.4</td>\n",
       "      <td>4.857</td>\n",
       "      <td>5191.0</td>\n",
       "      <td>0</td>\n",
       "    </tr>\n",
       "    <tr>\n",
       "      <th>4</th>\n",
       "      <td>56</td>\n",
       "      <td>7</td>\n",
       "      <td>1</td>\n",
       "      <td>3</td>\n",
       "      <td>0</td>\n",
       "      <td>0</td>\n",
       "      <td>2</td>\n",
       "      <td>1</td>\n",
       "      <td>6</td>\n",
       "      <td>1</td>\n",
       "      <td>...</td>\n",
       "      <td>1</td>\n",
       "      <td>999</td>\n",
       "      <td>0</td>\n",
       "      <td>1</td>\n",
       "      <td>1.1</td>\n",
       "      <td>93.994</td>\n",
       "      <td>-36.4</td>\n",
       "      <td>4.857</td>\n",
       "      <td>5191.0</td>\n",
       "      <td>0</td>\n",
       "    </tr>\n",
       "  </tbody>\n",
       "</table>\n",
       "<p>5 rows × 21 columns</p>\n",
       "</div>"
      ],
      "text/plain": [
       "   age  job  marital  education  default  housing  loan  contact  month  \\\n",
       "0   56    3        1          0        0        0     0        1      6   \n",
       "1   57    7        1          3        1        0     0        1      6   \n",
       "2   37    7        1          3        0        2     0        1      6   \n",
       "3   40    0        1          1        0        0     0        1      6   \n",
       "4   56    7        1          3        0        0     2        1      6   \n",
       "\n",
       "   day_of_week  ...  campaign  pdays  previous  poutcome  emp.var.rate  \\\n",
       "0            1  ...         1    999         0         1           1.1   \n",
       "1            1  ...         1    999         0         1           1.1   \n",
       "2            1  ...         1    999         0         1           1.1   \n",
       "3            1  ...         1    999         0         1           1.1   \n",
       "4            1  ...         1    999         0         1           1.1   \n",
       "\n",
       "   cons.price.idx  cons.conf.idx  euribor3m  nr.employed  y  \n",
       "0          93.994          -36.4      4.857       5191.0  0  \n",
       "1          93.994          -36.4      4.857       5191.0  0  \n",
       "2          93.994          -36.4      4.857       5191.0  0  \n",
       "3          93.994          -36.4      4.857       5191.0  0  \n",
       "4          93.994          -36.4      4.857       5191.0  0  \n",
       "\n",
       "[5 rows x 21 columns]"
      ]
     },
     "execution_count": 23,
     "metadata": {},
     "output_type": "execute_result"
    }
   ],
   "source": [
    "df.head()"
   ]
  },
  {
   "cell_type": "code",
   "execution_count": 24,
   "id": "04149684",
   "metadata": {},
   "outputs": [
    {
     "data": {
      "text/plain": [
       "age                 int64\n",
       "job                  int8\n",
       "marital              int8\n",
       "education            int8\n",
       "default              int8\n",
       "housing              int8\n",
       "loan                 int8\n",
       "contact              int8\n",
       "month                int8\n",
       "day_of_week          int8\n",
       "duration          float64\n",
       "campaign            int64\n",
       "pdays               int64\n",
       "previous            int64\n",
       "poutcome             int8\n",
       "emp.var.rate      float64\n",
       "cons.price.idx    float64\n",
       "cons.conf.idx     float64\n",
       "euribor3m         float64\n",
       "nr.employed       float64\n",
       "y                   int32\n",
       "dtype: object"
      ]
     },
     "execution_count": 24,
     "metadata": {},
     "output_type": "execute_result"
    }
   ],
   "source": [
    "df.dtypes"
   ]
  },
  {
   "cell_type": "markdown",
   "id": "b99f7cf7",
   "metadata": {},
   "source": [
    "# train_test_split"
   ]
  },
  {
   "cell_type": "code",
   "execution_count": 25,
   "id": "b7cc6377",
   "metadata": {},
   "outputs": [],
   "source": [
    "x = df.drop('y',axis=1)\n",
    "y = df['y']"
   ]
  },
  {
   "cell_type": "code",
   "execution_count": 26,
   "id": "888aa89d",
   "metadata": {},
   "outputs": [
    {
     "name": "stdout",
     "output_type": "stream",
     "text": [
      "(41176, 20)\n",
      "(41176,)\n"
     ]
    }
   ],
   "source": [
    "print(x.shape)\n",
    "print(y.shape)"
   ]
  },
  {
   "cell_type": "markdown",
   "id": "f028c539",
   "metadata": {},
   "source": [
    "#### Splitting the whole dataset into train and test to measure for effectiveness of a model"
   ]
  },
  {
   "cell_type": "code",
   "execution_count": 27,
   "id": "4b091643",
   "metadata": {},
   "outputs": [],
   "source": [
    "x_train, x_test, y_train, y_test = train_test_split(x,y,test_size=0.2, random_state=42)"
   ]
  },
  {
   "cell_type": "markdown",
   "id": "b4834bbe",
   "metadata": {},
   "source": [
    "#### Splitting the train dataset into train and Cross validation to deal with overfitting and underfitting also to perform hyperparameter Tunning"
   ]
  },
  {
   "cell_type": "code",
   "execution_count": 28,
   "id": "6f4e21e1",
   "metadata": {},
   "outputs": [],
   "source": [
    "x_train, x_cv, y_train, y_cv = train_test_split(x_train,y_train,test_size=0.2, random_state=42)"
   ]
  },
  {
   "cell_type": "markdown",
   "id": "a70b47b4",
   "metadata": {},
   "source": [
    "# <center>Model Building -- Training the model</center>"
   ]
  },
  {
   "cell_type": "markdown",
   "id": "66dfe872",
   "metadata": {},
   "source": [
    "## 1) Desicion Tree Classifier"
   ]
  },
  {
   "cell_type": "code",
   "execution_count": 29,
   "id": "0d43b9e6",
   "metadata": {},
   "outputs": [],
   "source": [
    "DT = DecisionTreeClassifier()\n",
    "DT.fit(x_train, y_train)\n",
    "y_pred = DT.predict(x_cv)"
   ]
  },
  {
   "cell_type": "code",
   "execution_count": 30,
   "id": "9cdeb6cb",
   "metadata": {},
   "outputs": [
    {
     "data": {
      "text/plain": [
       "0.8881299332119005"
      ]
     },
     "execution_count": 30,
     "metadata": {},
     "output_type": "execute_result"
    }
   ],
   "source": [
    "DT.score(x_cv,y_cv)"
   ]
  },
  {
   "cell_type": "code",
   "execution_count": 31,
   "id": "3a5fa759",
   "metadata": {},
   "outputs": [],
   "source": [
    "# dealing with overfitting and underfitting also perform hyperparameter Tunning in one shot\n",
    "accuracy_list = []\n",
    "for i in range(1,20):\n",
    "    DT = DecisionTreeClassifier(max_depth=i)\n",
    "    DT.fit(x_train, y_train)\n",
    "    y_pred = DT.predict(x_cv)\n",
    "    accuracy_list.append(DT.score(x_cv,y_cv))"
   ]
  },
  {
   "cell_type": "code",
   "execution_count": 32,
   "id": "8b264522",
   "metadata": {},
   "outputs": [
    {
     "data": {
      "image/png": "[encoded data removed]",
      "text/plain": [
       "<Figure size 432x288 with 1 Axes>"
      ]
     },
     "metadata": {
      "needs_background": "light"
     },
     "output_type": "display_data"
    }
   ],
   "source": [
    "plt.plot(accuracy_list)\n",
    "plt.show()"
   ]
  },
  {
   "cell_type": "code",
   "execution_count": 33,
   "id": "19b09c5b",
   "metadata": {},
   "outputs": [
    {
     "data": {
      "text/plain": [
       "(3, 0.9162112932604736)"
      ]
     },
     "execution_count": 33,
     "metadata": {},
     "output_type": "execute_result"
    }
   ],
   "source": [
    "np.argmax(accuracy_list), accuracy_list[np.argmax(accuracy_list)]"
   ]
  },
  {
   "cell_type": "code",
   "execution_count": 34,
   "id": "a417aafa",
   "metadata": {},
   "outputs": [
    {
     "data": {
      "text/plain": [
       "0.9102719766877125"
      ]
     },
     "execution_count": 34,
     "metadata": {},
     "output_type": "execute_result"
    }
   ],
   "source": [
    "# Training the model with best estimators \n",
    "DT = DecisionTreeClassifier(max_depth=4)\n",
    "DT.fit(x_train, y_train)\n",
    "y_pred = DT.predict(x_test)\n",
    "DT.score(x_test,y_test)"
   ]
  },
  {
   "cell_type": "markdown",
   "id": "3b193a24",
   "metadata": {},
   "source": [
    "## 2) RandomForestClassifier"
   ]
  },
  {
   "cell_type": "code",
   "execution_count": 35,
   "id": "4f4df477",
   "metadata": {},
   "outputs": [],
   "source": [
    "# dealing with overfitting and underfitting also perform hyperparameter Tunning in one shot\n",
    "accuracy_list = []\n",
    "for i in range(10,400,10):\n",
    "    RF = RandomForestClassifier(n_estimators=i)\n",
    "    RF.fit(x_train, y_train)\n",
    "    y_pred = RF.predict(x_cv)\n",
    "    accuracy_list.append(RF.score(x_cv,y_cv))"
   ]
  },
  {
   "cell_type": "code",
   "execution_count": 36,
   "id": "27d16c20",
   "metadata": {},
   "outputs": [
    {
     "data": {
      "image/png": "[encoded data removed]",
      "text/plain": [
       "<Figure size 432x288 with 1 Axes>"
      ]
     },
     "metadata": {
      "needs_background": "light"
     },
     "output_type": "display_data"
    }
   ],
   "source": [
    "plt.plot(accuracy_list)\n",
    "plt.show()"
   ]
  },
  {
   "cell_type": "code",
   "execution_count": 37,
   "id": "d1ab29c9",
   "metadata": {},
   "outputs": [
    {
     "data": {
      "text/plain": [
       "(18, 0.9175774134790529)"
      ]
     },
     "execution_count": 37,
     "metadata": {},
     "output_type": "execute_result"
    }
   ],
   "source": [
    "np.argmax(accuracy_list), accuracy_list[np.argmax(accuracy_list)]"
   ]
  },
  {
   "cell_type": "code",
   "execution_count": 38,
   "id": "08da3936",
   "metadata": {},
   "outputs": [
    {
     "data": {
      "text/plain": [
       "(18, 0.9175774134790529)"
      ]
     },
     "execution_count": 38,
     "metadata": {},
     "output_type": "execute_result"
    }
   ],
   "source": [
    "np.argmax(accuracy_list), accuracy_list[np.argmax(accuracy_list)]"
   ]
  },
  {
   "cell_type": "code",
   "execution_count": 39,
   "id": "bc525267",
   "metadata": {},
   "outputs": [
    {
     "data": {
      "text/html": [
       "<style>#sk-container-id-1 {color: black;background-color: white;}#sk-container-id-1 pre{padding: 0;}#sk-container-id-1 div.sk-toggleable {background-color: white;}#sk-container-id-1 label.sk-toggleable__label {cursor: pointer;display: block;width: 100%;margin-bottom: 0;padding: 0.3em;box-sizing: border-box;text-align: center;}#sk-container-id-1 label.sk-toggleable__label-arrow:before {content: \"▸\";float: left;margin-right: 0.25em;color: #696969;}#sk-container-id-1 label.sk-toggleable__label-arrow:hover:before {color: black;}#sk-container-id-1 div.sk-estimator:hover label.sk-toggleable__label-arrow:before {color: black;}#sk-container-id-1 div.sk-toggleable__content {max-height: 0;max-width: 0;overflow: hidden;text-align: left;background-color: #f0f8ff;}#sk-container-id-1 div.sk-toggleable__content pre {margin: 0.2em;color: black;border-radius: 0.25em;background-color: #f0f8ff;}#sk-container-id-1 input.sk-toggleable__control:checked~div.sk-toggleable__content {max-height: 200px;max-width: 100%;overflow: auto;}#sk-container-id-1 input.sk-toggleable__control:checked~label.sk-toggleable__label-arrow:before {content: \"▾\";}#sk-container-id-1 div.sk-estimator input.sk-toggleable__control:checked~label.sk-toggleable__label {background-color: #d4ebff;}#sk-container-id-1 div.sk-label input.sk-toggleable__control:checked~label.sk-toggleable__label {background-color: #d4ebff;}#sk-container-id-1 input.sk-hidden--visually {border: 0;clip: rect(1px 1px 1px 1px);clip: rect(1px, 1px, 1px, 1px);height: 1px;margin: -1px;overflow: hidden;padding: 0;position: absolute;width: 1px;}#sk-container-id-1 div.sk-estimator {font-family: monospace;background-color: #f0f8ff;border: 1px dotted black;border-radius: 0.25em;box-sizing: border-box;margin-bottom: 0.5em;}#sk-container-id-1 div.sk-estimator:hover {background-color: #d4ebff;}#sk-container-id-1 div.sk-parallel-item::after {content: \"\";width: 100%;border-bottom: 1px solid gray;flex-grow: 1;}#sk-container-id-1 div.sk-label:hover label.sk-toggleable__label {background-color: #d4ebff;}#sk-container-id-1 div.sk-serial::before {content: \"\";position: absolute;border-left: 1px solid gray;box-sizing: border-box;top: 0;bottom: 0;left: 50%;z-index: 0;}#sk-container-id-1 div.sk-serial {display: flex;flex-direction: column;align-items: center;background-color: white;padding-right: 0.2em;padding-left: 0.2em;position: relative;}#sk-container-id-1 div.sk-item {position: relative;z-index: 1;}#sk-container-id-1 div.sk-parallel {display: flex;align-items: stretch;justify-content: center;background-color: white;position: relative;}#sk-container-id-1 div.sk-item::before, #sk-container-id-1 div.sk-parallel-item::before {content: \"\";position: absolute;border-left: 1px solid gray;box-sizing: border-box;top: 0;bottom: 0;left: 50%;z-index: -1;}#sk-container-id-1 div.sk-parallel-item {display: flex;flex-direction: column;z-index: 1;position: relative;background-color: white;}#sk-container-id-1 div.sk-parallel-item:first-child::after {align-self: flex-end;width: 50%;}#sk-container-id-1 div.sk-parallel-item:last-child::after {align-self: flex-start;width: 50%;}#sk-container-id-1 div.sk-parallel-item:only-child::after {width: 0;}#sk-container-id-1 div.sk-dashed-wrapped {border: 1px dashed gray;margin: 0 0.4em 0.5em 0.4em;box-sizing: border-box;padding-bottom: 0.4em;background-color: white;}#sk-container-id-1 div.sk-label label {font-family: monospace;font-weight: bold;display: inline-block;line-height: 1.2em;}#sk-container-id-1 div.sk-label-container {text-align: center;}#sk-container-id-1 div.sk-container {/* jupyter's `normalize.less` sets `[hidden] { display: none; }` but bootstrap.min.css set `[hidden] { display: none !important; }` so we also need the `!important` here to be able to override the default hidden behavior on the sphinx rendered scikit-learn.org. See: https://github.com/scikit-learn/scikit-learn/issues/21755 */display: inline-block !important;position: relative;}#sk-container-id-1 div.sk-text-repr-fallback {display: none;}</style><div id=\"sk-container-id-1\" class=\"sk-top-container\"><div class=\"sk-text-repr-fallback\"><pre>RandomForestClassifier(n_estimators=180)</pre><b>In a Jupyter environment, please rerun this cell to show the HTML representation or trust the notebook. <br />On GitHub, the HTML representation is unable to render, please try loading this page with nbviewer.org.</b></div><div class=\"sk-container\" hidden><div class=\"sk-item\"><div class=\"sk-estimator sk-toggleable\"><input class=\"sk-toggleable__control sk-hidden--visually\" id=\"sk-estimator-id-1\" type=\"checkbox\" checked><label for=\"sk-estimator-id-1\" class=\"sk-toggleable__label sk-toggleable__label-arrow\">RandomForestClassifier</label><div class=\"sk-toggleable__content\"><pre>RandomForestClassifier(n_estimators=180)</pre></div></div></div></div></div>"
      ],
      "text/plain": [
       "RandomForestClassifier(n_estimators=180)"
      ]
     },
     "execution_count": 39,
     "metadata": {},
     "output_type": "execute_result"
    }
   ],
   "source": [
    "# Training the model with best estimators \n",
    "RF = RandomForestClassifier(n_estimators=180)\n",
    "RF.fit(x_train, y_train)"
   ]
  },
  {
   "cell_type": "code",
   "execution_count": 40,
   "id": "8ea56d24",
   "metadata": {},
   "outputs": [
    {
     "data": {
      "text/plain": [
       "0.911121903836814"
      ]
     },
     "execution_count": 40,
     "metadata": {},
     "output_type": "execute_result"
    }
   ],
   "source": [
    "RF.score(x_test,y_test)"
   ]
  },
  {
   "cell_type": "code",
   "execution_count": 41,
   "id": "67e80e82",
   "metadata": {},
   "outputs": [],
   "source": [
    "y_pred = RF.predict(x_test)"
   ]
  },
  {
   "cell_type": "markdown",
   "id": "0a416b0e",
   "metadata": {},
   "source": [
    "## 3) Logistic Regression"
   ]
  },
  {
   "cell_type": "code",
   "execution_count": 42,
   "id": "1ff8c2f8",
   "metadata": {
    "scrolled": true
   },
   "outputs": [
    {
     "name": "stdout",
     "output_type": "stream",
     "text": [
      "[ 3.99926761e+01  3.71937614e+00  1.17334548e+00  3.74415604e+00\n",
      "  2.05335458e-01  1.07684426e+00  3.30335458e-01  3.66917122e-01\n",
      "  4.24278992e+00  2.01517911e+00  2.55908432e+02  2.57619915e+00\n",
      "  9.62790414e+02  1.73269581e-01  9.29189435e-01  8.24719186e-02\n",
      "  9.35772912e+01 -4.05446494e+01  3.62012489e+00  5.16700242e+03]\n"
     ]
    }
   ],
   "source": [
    "# Scaling the features to train for Logistic Regressor, KNN, SVM\n",
    "scaler = StandardScaler()\n",
    "scaler.fit(x_train)\n",
    "print(scaler.mean_)"
   ]
  },
  {
   "cell_type": "code",
   "execution_count": 43,
   "id": "b61e7ac3",
   "metadata": {},
   "outputs": [],
   "source": [
    "x_train = scaler.transform(x_train)"
   ]
  },
  {
   "cell_type": "code",
   "execution_count": 44,
   "id": "440950c3",
   "metadata": {},
   "outputs": [],
   "source": [
    "x_test = scaler.transform(x_test)"
   ]
  },
  {
   "cell_type": "code",
   "execution_count": 45,
   "id": "6c0cd221",
   "metadata": {},
   "outputs": [],
   "source": [
    "x_cv = scaler.transform(x_cv)"
   ]
  },
  {
   "cell_type": "code",
   "execution_count": 46,
   "id": "2274d8df",
   "metadata": {
    "scrolled": false
   },
   "outputs": [
    {
     "data": {
      "text/html": [
       "<style>#sk-container-id-2 {color: black;background-color: white;}#sk-container-id-2 pre{padding: 0;}#sk-container-id-2 div.sk-toggleable {background-color: white;}#sk-container-id-2 label.sk-toggleable__label {cursor: pointer;display: block;width: 100%;margin-bottom: 0;padding: 0.3em;box-sizing: border-box;text-align: center;}#sk-container-id-2 label.sk-toggleable__label-arrow:before {content: \"▸\";float: left;margin-right: 0.25em;color: #696969;}#sk-container-id-2 label.sk-toggleable__label-arrow:hover:before {color: black;}#sk-container-id-2 div.sk-estimator:hover label.sk-toggleable__label-arrow:before {color: black;}#sk-container-id-2 div.sk-toggleable__content {max-height: 0;max-width: 0;overflow: hidden;text-align: left;background-color: #f0f8ff;}#sk-container-id-2 div.sk-toggleable__content pre {margin: 0.2em;color: black;border-radius: 0.25em;background-color: #f0f8ff;}#sk-container-id-2 input.sk-toggleable__control:checked~div.sk-toggleable__content {max-height: 200px;max-width: 100%;overflow: auto;}#sk-container-id-2 input.sk-toggleable__control:checked~label.sk-toggleable__label-arrow:before {content: \"▾\";}#sk-container-id-2 div.sk-estimator input.sk-toggleable__control:checked~label.sk-toggleable__label {background-color: #d4ebff;}#sk-container-id-2 div.sk-label input.sk-toggleable__control:checked~label.sk-toggleable__label {background-color: #d4ebff;}#sk-container-id-2 input.sk-hidden--visually {border: 0;clip: rect(1px 1px 1px 1px);clip: rect(1px, 1px, 1px, 1px);height: 1px;margin: -1px;overflow: hidden;padding: 0;position: absolute;width: 1px;}#sk-container-id-2 div.sk-estimator {font-family: monospace;background-color: #f0f8ff;border: 1px dotted black;border-radius: 0.25em;box-sizing: border-box;margin-bottom: 0.5em;}#sk-container-id-2 div.sk-estimator:hover {background-color: #d4ebff;}#sk-container-id-2 div.sk-parallel-item::after {content: \"\";width: 100%;border-bottom: 1px solid gray;flex-grow: 1;}#sk-container-id-2 div.sk-label:hover label.sk-toggleable__label {background-color: #d4ebff;}#sk-container-id-2 div.sk-serial::before {content: \"\";position: absolute;border-left: 1px solid gray;box-sizing: border-box;top: 0;bottom: 0;left: 50%;z-index: 0;}#sk-container-id-2 div.sk-serial {display: flex;flex-direction: column;align-items: center;background-color: white;padding-right: 0.2em;padding-left: 0.2em;position: relative;}#sk-container-id-2 div.sk-item {position: relative;z-index: 1;}#sk-container-id-2 div.sk-parallel {display: flex;align-items: stretch;justify-content: center;background-color: white;position: relative;}#sk-container-id-2 div.sk-item::before, #sk-container-id-2 div.sk-parallel-item::before {content: \"\";position: absolute;border-left: 1px solid gray;box-sizing: border-box;top: 0;bottom: 0;left: 50%;z-index: -1;}#sk-container-id-2 div.sk-parallel-item {display: flex;flex-direction: column;z-index: 1;position: relative;background-color: white;}#sk-container-id-2 div.sk-parallel-item:first-child::after {align-self: flex-end;width: 50%;}#sk-container-id-2 div.sk-parallel-item:last-child::after {align-self: flex-start;width: 50%;}#sk-container-id-2 div.sk-parallel-item:only-child::after {width: 0;}#sk-container-id-2 div.sk-dashed-wrapped {border: 1px dashed gray;margin: 0 0.4em 0.5em 0.4em;box-sizing: border-box;padding-bottom: 0.4em;background-color: white;}#sk-container-id-2 div.sk-label label {font-family: monospace;font-weight: bold;display: inline-block;line-height: 1.2em;}#sk-container-id-2 div.sk-label-container {text-align: center;}#sk-container-id-2 div.sk-container {/* jupyter's `normalize.less` sets `[hidden] { display: none; }` but bootstrap.min.css set `[hidden] { display: none !important; }` so we also need the `!important` here to be able to override the default hidden behavior on the sphinx rendered scikit-learn.org. See: https://github.com/scikit-learn/scikit-learn/issues/21755 */display: inline-block !important;position: relative;}#sk-container-id-2 div.sk-text-repr-fallback {display: none;}</style><div id=\"sk-container-id-2\" class=\"sk-top-container\"><div class=\"sk-text-repr-fallback\"><pre>LogisticRegression(C=10, max_iter=10000)</pre><b>In a Jupyter environment, please rerun this cell to show the HTML representation or trust the notebook. <br />On GitHub, the HTML representation is unable to render, please try loading this page with nbviewer.org.</b></div><div class=\"sk-container\" hidden><div class=\"sk-item\"><div class=\"sk-estimator sk-toggleable\"><input class=\"sk-toggleable__control sk-hidden--visually\" id=\"sk-estimator-id-2\" type=\"checkbox\" checked><label for=\"sk-estimator-id-2\" class=\"sk-toggleable__label sk-toggleable__label-arrow\">LogisticRegression</label><div class=\"sk-toggleable__content\"><pre>LogisticRegression(C=10, max_iter=10000)</pre></div></div></div></div></div>"
      ],
      "text/plain": [
       "LogisticRegression(C=10, max_iter=10000)"
      ]
     },
     "execution_count": 46,
     "metadata": {},
     "output_type": "execute_result"
    }
   ],
   "source": [
    "Log_R = LogisticRegression(max_iter=10000,C=10)\n",
    "Log_R.fit(x_train,y_train)"
   ]
  },
  {
   "cell_type": "code",
   "execution_count": 47,
   "id": "92510785",
   "metadata": {},
   "outputs": [
    {
     "data": {
      "text/plain": [
       "0.9049295774647887"
      ]
     },
     "execution_count": 47,
     "metadata": {},
     "output_type": "execute_result"
    }
   ],
   "source": [
    "Log_R.score(x_test,y_test)"
   ]
  },
  {
   "cell_type": "code",
   "execution_count": 48,
   "id": "e86ecbfb",
   "metadata": {},
   "outputs": [],
   "source": [
    "# dealing with overfitting and underfitting also perform hyperparameter Tunning in one shot\n",
    "accuracy_list = []\n",
    "for i in range(1,20):\n",
    "    LR = LogisticRegression(max_iter=10000,C=i)\n",
    "    LR.fit(x_train, y_train)\n",
    "    accuracy_list.append(LR.score(x_cv,y_cv))"
   ]
  },
  {
   "cell_type": "code",
   "execution_count": 49,
   "id": "3ba3284b",
   "metadata": {},
   "outputs": [
    {
     "data": {
      "image/png": "[encoded data removed]",
      "text/plain": [
       "<Figure size 432x288 with 1 Axes>"
      ]
     },
     "metadata": {
      "needs_background": "light"
     },
     "output_type": "display_data"
    },
    {
     "name": "stdout",
     "output_type": "stream",
     "text": [
      "2\n"
     ]
    }
   ],
   "source": [
    "plt.plot(accuracy_list)\n",
    "plt.show()\n",
    "print(np.argmax(accuracy_list))"
   ]
  },
  {
   "cell_type": "code",
   "execution_count": 50,
   "id": "10134ddb",
   "metadata": {},
   "outputs": [
    {
     "data": {
      "text/plain": [
       "(2, 0.9093806921675774)"
      ]
     },
     "execution_count": 50,
     "metadata": {},
     "output_type": "execute_result"
    }
   ],
   "source": [
    "np.argmax(accuracy_list), accuracy_list[np.argmax(accuracy_list)]"
   ]
  },
  {
   "cell_type": "code",
   "execution_count": 51,
   "id": "13bd0070",
   "metadata": {
    "scrolled": true
   },
   "outputs": [
    {
     "data": {
      "text/html": [
       "<style>#sk-container-id-3 {color: black;background-color: white;}#sk-container-id-3 pre{padding: 0;}#sk-container-id-3 div.sk-toggleable {background-color: white;}#sk-container-id-3 label.sk-toggleable__label {cursor: pointer;display: block;width: 100%;margin-bottom: 0;padding: 0.3em;box-sizing: border-box;text-align: center;}#sk-container-id-3 label.sk-toggleable__label-arrow:before {content: \"▸\";float: left;margin-right: 0.25em;color: #696969;}#sk-container-id-3 label.sk-toggleable__label-arrow:hover:before {color: black;}#sk-container-id-3 div.sk-estimator:hover label.sk-toggleable__label-arrow:before {color: black;}#sk-container-id-3 div.sk-toggleable__content {max-height: 0;max-width: 0;overflow: hidden;text-align: left;background-color: #f0f8ff;}#sk-container-id-3 div.sk-toggleable__content pre {margin: 0.2em;color: black;border-radius: 0.25em;background-color: #f0f8ff;}#sk-container-id-3 input.sk-toggleable__control:checked~div.sk-toggleable__content {max-height: 200px;max-width: 100%;overflow: auto;}#sk-container-id-3 input.sk-toggleable__control:checked~label.sk-toggleable__label-arrow:before {content: \"▾\";}#sk-container-id-3 div.sk-estimator input.sk-toggleable__control:checked~label.sk-toggleable__label {background-color: #d4ebff;}#sk-container-id-3 div.sk-label input.sk-toggleable__control:checked~label.sk-toggleable__label {background-color: #d4ebff;}#sk-container-id-3 input.sk-hidden--visually {border: 0;clip: rect(1px 1px 1px 1px);clip: rect(1px, 1px, 1px, 1px);height: 1px;margin: -1px;overflow: hidden;padding: 0;position: absolute;width: 1px;}#sk-container-id-3 div.sk-estimator {font-family: monospace;background-color: #f0f8ff;border: 1px dotted black;border-radius: 0.25em;box-sizing: border-box;margin-bottom: 0.5em;}#sk-container-id-3 div.sk-estimator:hover {background-color: #d4ebff;}#sk-container-id-3 div.sk-parallel-item::after {content: \"\";width: 100%;border-bottom: 1px solid gray;flex-grow: 1;}#sk-container-id-3 div.sk-label:hover label.sk-toggleable__label {background-color: #d4ebff;}#sk-container-id-3 div.sk-serial::before {content: \"\";position: absolute;border-left: 1px solid gray;box-sizing: border-box;top: 0;bottom: 0;left: 50%;z-index: 0;}#sk-container-id-3 div.sk-serial {display: flex;flex-direction: column;align-items: center;background-color: white;padding-right: 0.2em;padding-left: 0.2em;position: relative;}#sk-container-id-3 div.sk-item {position: relative;z-index: 1;}#sk-container-id-3 div.sk-parallel {display: flex;align-items: stretch;justify-content: center;background-color: white;position: relative;}#sk-container-id-3 div.sk-item::before, #sk-container-id-3 div.sk-parallel-item::before {content: \"\";position: absolute;border-left: 1px solid gray;box-sizing: border-box;top: 0;bottom: 0;left: 50%;z-index: -1;}#sk-container-id-3 div.sk-parallel-item {display: flex;flex-direction: column;z-index: 1;position: relative;background-color: white;}#sk-container-id-3 div.sk-parallel-item:first-child::after {align-self: flex-end;width: 50%;}#sk-container-id-3 div.sk-parallel-item:last-child::after {align-self: flex-start;width: 50%;}#sk-container-id-3 div.sk-parallel-item:only-child::after {width: 0;}#sk-container-id-3 div.sk-dashed-wrapped {border: 1px dashed gray;margin: 0 0.4em 0.5em 0.4em;box-sizing: border-box;padding-bottom: 0.4em;background-color: white;}#sk-container-id-3 div.sk-label label {font-family: monospace;font-weight: bold;display: inline-block;line-height: 1.2em;}#sk-container-id-3 div.sk-label-container {text-align: center;}#sk-container-id-3 div.sk-container {/* jupyter's `normalize.less` sets `[hidden] { display: none; }` but bootstrap.min.css set `[hidden] { display: none !important; }` so we also need the `!important` here to be able to override the default hidden behavior on the sphinx rendered scikit-learn.org. See: https://github.com/scikit-learn/scikit-learn/issues/21755 */display: inline-block !important;position: relative;}#sk-container-id-3 div.sk-text-repr-fallback {display: none;}</style><div id=\"sk-container-id-3\" class=\"sk-top-container\"><div class=\"sk-text-repr-fallback\"><pre>LogisticRegression(C=3, max_iter=10000)</pre><b>In a Jupyter environment, please rerun this cell to show the HTML representation or trust the notebook. <br />On GitHub, the HTML representation is unable to render, please try loading this page with nbviewer.org.</b></div><div class=\"sk-container\" hidden><div class=\"sk-item\"><div class=\"sk-estimator sk-toggleable\"><input class=\"sk-toggleable__control sk-hidden--visually\" id=\"sk-estimator-id-3\" type=\"checkbox\" checked><label for=\"sk-estimator-id-3\" class=\"sk-toggleable__label sk-toggleable__label-arrow\">LogisticRegression</label><div class=\"sk-toggleable__content\"><pre>LogisticRegression(C=3, max_iter=10000)</pre></div></div></div></div></div>"
      ],
      "text/plain": [
       "LogisticRegression(C=3, max_iter=10000)"
      ]
     },
     "execution_count": 51,
     "metadata": {},
     "output_type": "execute_result"
    }
   ],
   "source": [
    "# Training the model with best estimators \n",
    "Log_R = LogisticRegression(max_iter=10000,C=3)\n",
    "Log_R.fit(x_train,y_train)"
   ]
  },
  {
   "cell_type": "code",
   "execution_count": 52,
   "id": "3e2d9eac",
   "metadata": {},
   "outputs": [
    {
     "data": {
      "text/plain": [
       "0.9048081593006314"
      ]
     },
     "execution_count": 52,
     "metadata": {},
     "output_type": "execute_result"
    }
   ],
   "source": [
    "Log_R.score(x_test,y_test)"
   ]
  },
  {
   "cell_type": "markdown",
   "id": "1e7e9c47",
   "metadata": {},
   "source": [
    "# KNN"
   ]
  },
  {
   "cell_type": "code",
   "execution_count": 53,
   "id": "fa102b81",
   "metadata": {},
   "outputs": [],
   "source": [
    "# dealing with overfitting and underfitting also perform hyperparameter Tunning in one shot\n",
    "accuracy_list = []\n",
    "for i in range(1,30,2):\n",
    "    knn = KNeighborsClassifier(n_neighbors=i)\n",
    "    knn.fit(x_train, y_train)\n",
    "    accuracy_list.append(knn.score(x_cv,y_cv))"
   ]
  },
  {
   "cell_type": "code",
   "execution_count": 54,
   "id": "f826e466",
   "metadata": {},
   "outputs": [
    {
     "data": {
      "image/png": "[encoded data removed]",
      "text/plain": [
       "<Figure size 432x288 with 1 Axes>"
      ]
     },
     "metadata": {
      "needs_background": "light"
     },
     "output_type": "display_data"
    },
    {
     "name": "stdout",
     "output_type": "stream",
     "text": [
      "13\n"
     ]
    }
   ],
   "source": [
    "plt.plot(accuracy_list)\n",
    "plt.show()\n",
    "print(np.argmax(accuracy_list))"
   ]
  },
  {
   "cell_type": "code",
   "execution_count": 55,
   "id": "982a63a8",
   "metadata": {},
   "outputs": [
    {
     "data": {
      "text/plain": [
       "0.9008013598834386"
      ]
     },
     "execution_count": 55,
     "metadata": {},
     "output_type": "execute_result"
    }
   ],
   "source": [
    "# Training the model with best estimators \n",
    "knn = KNeighborsClassifier(n_neighbors=27)\n",
    "knn.fit(x_train, y_train)\n",
    "knn.score(x_test,y_test)"
   ]
  },
  {
   "cell_type": "markdown",
   "id": "51125ce7",
   "metadata": {},
   "source": [
    "# Support Vector machines"
   ]
  },
  {
   "cell_type": "code",
   "execution_count": 56,
   "id": "d1fea4b0",
   "metadata": {},
   "outputs": [],
   "source": [
    "# dealing with overfitting and underfitting also perform hyperparameter Tunning in one shot\n",
    "accuracy_list = []\n",
    "for i in [ 0.01, 0.1, 1, 10, 100, 1000, 10000]:\n",
    "    svc = SVC(C=i)\n",
    "    svc.fit(x_train, y_train)\n",
    "    accuracy_list.append(svc.score(x_cv,y_cv))"
   ]
  },
  {
   "cell_type": "code",
   "execution_count": 57,
   "id": "15c59f5c",
   "metadata": {},
   "outputs": [
    {
     "data": {
      "image/png": "[encoded data removed]",
      "text/plain": [
       "<Figure size 432x288 with 1 Axes>"
      ]
     },
     "metadata": {
      "needs_background": "light"
     },
     "output_type": "display_data"
    },
    {
     "name": "stdout",
     "output_type": "stream",
     "text": [
      "2\n"
     ]
    }
   ],
   "source": [
    "plt.plot(accuracy_list)\n",
    "plt.show()\n",
    "print(np.argmax(accuracy_list))"
   ]
  },
  {
   "cell_type": "code",
   "execution_count": 58,
   "id": "8b3fae97",
   "metadata": {},
   "outputs": [
    {
     "data": {
      "text/plain": [
       "[0.8894960534304797,\n",
       " 0.905130540376442,\n",
       " 0.9107468123861566,\n",
       " 0.9104432301153612,\n",
       " 0.8999696417729205,\n",
       " 0.8916211293260473,\n",
       " 0.8855494839101397]"
      ]
     },
     "execution_count": 58,
     "metadata": {},
     "output_type": "execute_result"
    }
   ],
   "source": [
    "accuracy_list"
   ]
  },
  {
   "cell_type": "code",
   "execution_count": 59,
   "id": "0da25cb0",
   "metadata": {},
   "outputs": [
    {
     "data": {
      "text/plain": [
       "0.9050509956289461"
      ]
     },
     "execution_count": 59,
     "metadata": {},
     "output_type": "execute_result"
    }
   ],
   "source": [
    "# Training the model with best estimators \n",
    "svc = SVC(C=1)\n",
    "svc.fit(x_train, y_train)\n",
    "svc.score(x_test,y_test)"
   ]
  },
  {
   "cell_type": "markdown",
   "id": "706ee370",
   "metadata": {},
   "source": [
    "# Evalution metrics"
   ]
  },
  {
   "cell_type": "code",
   "execution_count": 60,
   "id": "9afa69ff",
   "metadata": {},
   "outputs": [
    {
     "data": {
      "image/png": "[encoded data removed]",
      "text/plain": [
       "<Figure size 432x288 with 2 Axes>"
      ]
     },
     "metadata": {
      "needs_background": "light"
     },
     "output_type": "display_data"
    }
   ],
   "source": [
    "# Since the dataset is Imbalanced using the confusion matrix to test for effectiveness of model\n",
    "confusion_matrix = metrics.confusion_matrix(y_pred, y_test)\n",
    "\n",
    "cm_display = metrics.ConfusionMatrixDisplay(confusion_matrix = confusion_matrix, display_labels = [False, True])\n",
    "\n",
    "cm_display.plot()\n",
    "plt.show()"
   ]
  },
  {
   "cell_type": "code",
   "execution_count": 61,
   "id": "889b0e53",
   "metadata": {},
   "outputs": [
    {
     "name": "stdout",
     "output_type": "stream",
     "text": [
      "              precision    recall  f1-score   support\n",
      "\n",
      "           0       0.94      0.97      0.95      7265\n",
      "           1       0.66      0.51      0.57       971\n",
      "\n",
      "    accuracy                           0.91      8236\n",
      "   macro avg       0.80      0.74      0.76      8236\n",
      "weighted avg       0.90      0.91      0.91      8236\n",
      "\n"
     ]
    }
   ],
   "source": [
    "print(classification_report(y_test, y_pred))"
   ]
  },
  {
   "cell_type": "markdown",
   "id": "f194e878",
   "metadata": {},
   "source": [
    "#### Here since the presicion, recall and f1-score is all considerably high and we can conclude that model is not just a random or a dumb model"
   ]
  },
  {
   "cell_type": "markdown",
   "id": "18c14825",
   "metadata": {},
   "source": [
    "# Saving the model"
   ]
  },
  {
   "cell_type": "code",
   "execution_count": 62,
   "id": "902d4a9c",
   "metadata": {},
   "outputs": [
    {
     "data": {
      "text/plain": [
       "['model.pkl']"
      ]
     },
     "execution_count": 62,
     "metadata": {},
     "output_type": "execute_result"
    }
   ],
   "source": [
    "joblib.dump(DT, 'model.pkl')"
   ]
  },
  {
   "cell_type": "code",
   "execution_count": 63,
   "id": "1e0bf7a0",
   "metadata": {},
   "outputs": [],
   "source": [
    "dt_model = joblib.load('model.pkl') "
   ]
  },
  {
   "cell_type": "code",
   "execution_count": 64,
   "id": "1306b808",
   "metadata": {},
   "outputs": [
    {
     "data": {
      "text/plain": [
       "array([0, 0, 0, ..., 0, 0, 0])"
      ]
     },
     "execution_count": 64,
     "metadata": {},
     "output_type": "execute_result"
    }
   ],
   "source": [
    "dt_model.predict(x_test)"
   ]
  },
  {
   "cell_type": "markdown",
   "id": "759609c4",
   "metadata": {},
   "source": [
    "# converting the csv"
   ]
  },
  {
   "cell_type": "code",
   "execution_count": 65,
   "id": "5be86cef",
   "metadata": {},
   "outputs": [],
   "source": [
    "prediction = pd.DataFrame(y_pred, columns=['predictions']).to_csv('prediction.csv')"
   ]
  }
 ],
 "metadata": {
  "kernelspec": {
   "display_name": "Python 3 (ipykernel)",
   "language": "python",
   "name": "python3"
  },
  "language_info": {
   "codemirror_mode": {
    "name": "ipython",
    "version": 3
   },
   "file_extension": ".py",
   "mimetype": "text/x-python",
   "name": "python",
   "nbconvert_exporter": "python",
   "pygments_lexer": "ipython3",
   "version": "3.9.12"
  }
 },
 "nbformat": 4,
 "nbformat_minor": 5
}
